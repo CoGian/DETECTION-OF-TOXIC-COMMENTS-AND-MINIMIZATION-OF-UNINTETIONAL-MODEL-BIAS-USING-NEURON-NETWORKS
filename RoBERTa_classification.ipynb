{
  "nbformat": 4,
  "nbformat_minor": 0,
  "metadata": {
    "colab": {
      "name": "RoBERTa_classification.ipynb",
      "provenance": [],
      "collapsed_sections": [],
      "toc_visible": true,
      "authorship_tag": "ABX9TyOELgP/rdLFHb11WlQmCK3p",
      "include_colab_link": true
    },
    "kernelspec": {
      "name": "python3",
      "display_name": "Python 3"
    },
    "accelerator": "TPU"
  },
  "cells": [
    {
      "cell_type": "markdown",
      "metadata": {
        "id": "view-in-github",
        "colab_type": "text"
      },
      "source": [
        "<a href=\"https://colab.research.google.com/github/CoGian/Detection-of-toxic-comments-and-minimization-of-unintended-model-bias-using-neural-networks/blob/master/RoBERTa_classification.ipynb\" target=\"_parent\"><img src=\"https://colab.research.google.com/assets/colab-badge.svg\" alt=\"Open In Colab\"/></a>"
      ]
    },
    {
      "cell_type": "code",
      "metadata": {
        "id": "0cHlQTQXCB4q",
        "colab_type": "code",
        "colab": {
          "base_uri": "https://localhost:8080/",
          "height": 122
        },
        "outputId": "084dc9b4-d642-4aa4-e367-e74fcb87d5df"
      },
      "source": [
        "from google.colab import drive\n",
        "drive.mount('/content/drive' )"
      ],
      "execution_count": null,
      "outputs": [
        {
          "output_type": "stream",
          "text": [
            "Go to this URL in a browser: https://accounts.google.com/o/oauth2/auth?client_id=947318989803-6bn6qk8qdgf4n4g3pfee6491hc0brc4i.apps.googleusercontent.com&redirect_uri=urn%3aietf%3awg%3aoauth%3a2.0%3aoob&scope=email%20https%3a%2f%2fwww.googleapis.com%2fauth%2fdocs.test%20https%3a%2f%2fwww.googleapis.com%2fauth%2fdrive%20https%3a%2f%2fwww.googleapis.com%2fauth%2fdrive.photos.readonly%20https%3a%2f%2fwww.googleapis.com%2fauth%2fpeopleapi.readonly&response_type=code\n",
            "\n",
            "Enter your authorization code:\n",
            "··········\n",
            "Mounted at /content/drive\n"
          ],
          "name": "stdout"
        }
      ]
    },
    {
      "cell_type": "code",
      "metadata": {
        "id": "QOwQvEuo6FSd",
        "colab_type": "code",
        "colab": {
          "base_uri": "https://localhost:8080/",
          "height": 632
        },
        "outputId": "3f85afc3-2603-470d-b257-791404535ae9"
      },
      "source": [
        "import pandas as pd\n",
        "import tensorflow as tf\n",
        "!pip install transformers \n",
        "from transformers import *\n",
        "print(tf.__version__)\n",
        "import numpy as np\n",
        "import gc\n",
        "import sys\n",
        "sys.path.append('/content/drive/My Drive/Jigsaw Unintended Bias in Toxicity Classification/tools')\n",
        "sys.path.append('/content/drive/My Drive/Jigsaw Unintended Bias in Toxicity Classification')\n",
        "from tools_benchmark import  compute_bias_metrics_for_model, calculate_overall_auc,get_final_metric\n",
        "from tools_evaluate_model import evaluate"
      ],
      "execution_count": null,
      "outputs": [
        {
          "output_type": "stream",
          "text": [
            "Collecting transformers\n",
            "\u001b[?25l  Downloading https://files.pythonhosted.org/packages/27/3c/91ed8f5c4e7ef3227b4119200fc0ed4b4fd965b1f0172021c25701087825/transformers-3.0.2-py3-none-any.whl (769kB)\n",
            "\u001b[K     |████████████████████████████████| 778kB 3.3MB/s \n",
            "\u001b[?25hRequirement already satisfied: numpy in /usr/local/lib/python3.6/dist-packages (from transformers) (1.18.5)\n",
            "Requirement already satisfied: requests in /usr/local/lib/python3.6/dist-packages (from transformers) (2.23.0)\n",
            "Requirement already satisfied: regex!=2019.12.17 in /usr/local/lib/python3.6/dist-packages (from transformers) (2019.12.20)\n",
            "Collecting sacremoses\n",
            "\u001b[?25l  Downloading https://files.pythonhosted.org/packages/7d/34/09d19aff26edcc8eb2a01bed8e98f13a1537005d31e95233fd48216eed10/sacremoses-0.0.43.tar.gz (883kB)\n",
            "\u001b[K     |████████████████████████████████| 890kB 12.1MB/s \n",
            "\u001b[?25hCollecting tokenizers==0.8.1.rc1\n",
            "\u001b[?25l  Downloading https://files.pythonhosted.org/packages/40/d0/30d5f8d221a0ed981a186c8eb986ce1c94e3a6e87f994eae9f4aa5250217/tokenizers-0.8.1rc1-cp36-cp36m-manylinux1_x86_64.whl (3.0MB)\n",
            "\u001b[K     |████████████████████████████████| 3.0MB 21.5MB/s \n",
            "\u001b[?25hRequirement already satisfied: filelock in /usr/local/lib/python3.6/dist-packages (from transformers) (3.0.12)\n",
            "Collecting sentencepiece!=0.1.92\n",
            "\u001b[?25l  Downloading https://files.pythonhosted.org/packages/d4/a4/d0a884c4300004a78cca907a6ff9a5e9fe4f090f5d95ab341c53d28cbc58/sentencepiece-0.1.91-cp36-cp36m-manylinux1_x86_64.whl (1.1MB)\n",
            "\u001b[K     |████████████████████████████████| 1.1MB 46.3MB/s \n",
            "\u001b[?25hRequirement already satisfied: packaging in /usr/local/lib/python3.6/dist-packages (from transformers) (20.4)\n",
            "Requirement already satisfied: dataclasses; python_version < \"3.7\" in /usr/local/lib/python3.6/dist-packages (from transformers) (0.7)\n",
            "Requirement already satisfied: tqdm>=4.27 in /usr/local/lib/python3.6/dist-packages (from transformers) (4.41.1)\n",
            "Requirement already satisfied: chardet<4,>=3.0.2 in /usr/local/lib/python3.6/dist-packages (from requests->transformers) (3.0.4)\n",
            "Requirement already satisfied: certifi>=2017.4.17 in /usr/local/lib/python3.6/dist-packages (from requests->transformers) (2020.6.20)\n",
            "Requirement already satisfied: urllib3!=1.25.0,!=1.25.1,<1.26,>=1.21.1 in /usr/local/lib/python3.6/dist-packages (from requests->transformers) (1.24.3)\n",
            "Requirement already satisfied: idna<3,>=2.5 in /usr/local/lib/python3.6/dist-packages (from requests->transformers) (2.10)\n",
            "Requirement already satisfied: six in /usr/local/lib/python3.6/dist-packages (from sacremoses->transformers) (1.15.0)\n",
            "Requirement already satisfied: click in /usr/local/lib/python3.6/dist-packages (from sacremoses->transformers) (7.1.2)\n",
            "Requirement already satisfied: joblib in /usr/local/lib/python3.6/dist-packages (from sacremoses->transformers) (0.16.0)\n",
            "Requirement already satisfied: pyparsing>=2.0.2 in /usr/local/lib/python3.6/dist-packages (from packaging->transformers) (2.4.7)\n",
            "Building wheels for collected packages: sacremoses\n",
            "  Building wheel for sacremoses (setup.py) ... \u001b[?25l\u001b[?25hdone\n",
            "  Created wheel for sacremoses: filename=sacremoses-0.0.43-cp36-none-any.whl size=893260 sha256=af36e5ab8f64e71a5566335545639c960add029552f74a063f94c281b9c5e40b\n",
            "  Stored in directory: /root/.cache/pip/wheels/29/3c/fd/7ce5c3f0666dab31a50123635e6fb5e19ceb42ce38d4e58f45\n",
            "Successfully built sacremoses\n",
            "Installing collected packages: sacremoses, tokenizers, sentencepiece, transformers\n",
            "Successfully installed sacremoses-0.0.43 sentencepiece-0.1.91 tokenizers-0.8.1rc1 transformers-3.0.2\n",
            "2.3.0\n"
          ],
          "name": "stdout"
        }
      ]
    },
    {
      "cell_type": "markdown",
      "metadata": {
        "id": "_1SuEtmDRzrw",
        "colab_type": "text"
      },
      "source": [
        "# TPU Configs"
      ]
    },
    {
      "cell_type": "code",
      "metadata": {
        "id": "t_5IufoKRzff",
        "colab_type": "code",
        "colab": {
          "base_uri": "https://localhost:8080/",
          "height": 765
        },
        "outputId": "6ed8c147-e5fa-4513-d41e-81c79e3599ad"
      },
      "source": [
        "# Detect hardware, return appropriate distribution strategy\n",
        "try:\n",
        "    # TPU detection. No parameters necessary if TPU_NAME environment variable is\n",
        "    # set: this is always the case on Kaggle.\n",
        "    tpu = tf.distribute.cluster_resolver.TPUClusterResolver()\n",
        "    print('Running on TPU ', tpu.master())\n",
        "except ValueError:\n",
        "    tpu = None\n",
        "\n",
        "if tpu:\n",
        "    tf.config.experimental_connect_to_cluster(tpu)\n",
        "    tf.tpu.experimental.initialize_tpu_system(tpu)\n",
        "    strategy = tf.distribute.experimental.TPUStrategy(tpu)\n",
        "else:\n",
        "    # Default distribution strategy in Tensorflow. Works on CPU and single GPU.\n",
        "    strategy = tf.distribute.get_strategy()\n",
        "\n",
        "print(\"REPLICAS: \", strategy.num_replicas_in_sync)"
      ],
      "execution_count": null,
      "outputs": [
        {
          "output_type": "stream",
          "text": [
            "INFO:absl:Entering into master device scope: /job:worker/replica:0/task:0/device:CPU:0\n"
          ],
          "name": "stderr"
        },
        {
          "output_type": "stream",
          "text": [
            "Running on TPU  grpc://10.93.110.26:8470\n",
            "INFO:tensorflow:Initializing the TPU system: grpc://10.93.110.26:8470\n"
          ],
          "name": "stdout"
        },
        {
          "output_type": "stream",
          "text": [
            "INFO:tensorflow:Initializing the TPU system: grpc://10.93.110.26:8470\n"
          ],
          "name": "stderr"
        },
        {
          "output_type": "stream",
          "text": [
            "INFO:tensorflow:Clearing out eager caches\n"
          ],
          "name": "stdout"
        },
        {
          "output_type": "stream",
          "text": [
            "INFO:tensorflow:Clearing out eager caches\n"
          ],
          "name": "stderr"
        },
        {
          "output_type": "stream",
          "text": [
            "INFO:tensorflow:Finished initializing TPU system.\n"
          ],
          "name": "stdout"
        },
        {
          "output_type": "stream",
          "text": [
            "INFO:tensorflow:Finished initializing TPU system.\n",
            "WARNING:absl:`tf.distribute.experimental.TPUStrategy` is deprecated, please use  the non experimental symbol `tf.distribute.TPUStrategy` instead.\n"
          ],
          "name": "stderr"
        },
        {
          "output_type": "stream",
          "text": [
            "INFO:tensorflow:Found TPU system:\n"
          ],
          "name": "stdout"
        },
        {
          "output_type": "stream",
          "text": [
            "INFO:tensorflow:Found TPU system:\n"
          ],
          "name": "stderr"
        },
        {
          "output_type": "stream",
          "text": [
            "INFO:tensorflow:*** Num TPU Cores: 8\n"
          ],
          "name": "stdout"
        },
        {
          "output_type": "stream",
          "text": [
            "INFO:tensorflow:*** Num TPU Cores: 8\n"
          ],
          "name": "stderr"
        },
        {
          "output_type": "stream",
          "text": [
            "INFO:tensorflow:*** Num TPU Workers: 1\n"
          ],
          "name": "stdout"
        },
        {
          "output_type": "stream",
          "text": [
            "INFO:tensorflow:*** Num TPU Workers: 1\n"
          ],
          "name": "stderr"
        },
        {
          "output_type": "stream",
          "text": [
            "INFO:tensorflow:*** Num TPU Cores Per Worker: 8\n"
          ],
          "name": "stdout"
        },
        {
          "output_type": "stream",
          "text": [
            "INFO:tensorflow:*** Num TPU Cores Per Worker: 8\n"
          ],
          "name": "stderr"
        },
        {
          "output_type": "stream",
          "text": [
            "INFO:tensorflow:*** Available Device: _DeviceAttributes(/job:localhost/replica:0/task:0/device:CPU:0, CPU, 0, 0)\n"
          ],
          "name": "stdout"
        },
        {
          "output_type": "stream",
          "text": [
            "INFO:tensorflow:*** Available Device: _DeviceAttributes(/job:localhost/replica:0/task:0/device:CPU:0, CPU, 0, 0)\n"
          ],
          "name": "stderr"
        },
        {
          "output_type": "stream",
          "text": [
            "INFO:tensorflow:*** Available Device: _DeviceAttributes(/job:localhost/replica:0/task:0/device:XLA_CPU:0, XLA_CPU, 0, 0)\n"
          ],
          "name": "stdout"
        },
        {
          "output_type": "stream",
          "text": [
            "INFO:tensorflow:*** Available Device: _DeviceAttributes(/job:localhost/replica:0/task:0/device:XLA_CPU:0, XLA_CPU, 0, 0)\n"
          ],
          "name": "stderr"
        },
        {
          "output_type": "stream",
          "text": [
            "INFO:tensorflow:*** Available Device: _DeviceAttributes(/job:worker/replica:0/task:0/device:CPU:0, CPU, 0, 0)\n"
          ],
          "name": "stdout"
        },
        {
          "output_type": "stream",
          "text": [
            "INFO:tensorflow:*** Available Device: _DeviceAttributes(/job:worker/replica:0/task:0/device:CPU:0, CPU, 0, 0)\n"
          ],
          "name": "stderr"
        },
        {
          "output_type": "stream",
          "text": [
            "INFO:tensorflow:*** Available Device: _DeviceAttributes(/job:worker/replica:0/task:0/device:TPU:0, TPU, 0, 0)\n"
          ],
          "name": "stdout"
        },
        {
          "output_type": "stream",
          "text": [
            "INFO:tensorflow:*** Available Device: _DeviceAttributes(/job:worker/replica:0/task:0/device:TPU:0, TPU, 0, 0)\n"
          ],
          "name": "stderr"
        },
        {
          "output_type": "stream",
          "text": [
            "INFO:tensorflow:*** Available Device: _DeviceAttributes(/job:worker/replica:0/task:0/device:TPU:1, TPU, 0, 0)\n"
          ],
          "name": "stdout"
        },
        {
          "output_type": "stream",
          "text": [
            "INFO:tensorflow:*** Available Device: _DeviceAttributes(/job:worker/replica:0/task:0/device:TPU:1, TPU, 0, 0)\n"
          ],
          "name": "stderr"
        },
        {
          "output_type": "stream",
          "text": [
            "INFO:tensorflow:*** Available Device: _DeviceAttributes(/job:worker/replica:0/task:0/device:TPU:2, TPU, 0, 0)\n"
          ],
          "name": "stdout"
        },
        {
          "output_type": "stream",
          "text": [
            "INFO:tensorflow:*** Available Device: _DeviceAttributes(/job:worker/replica:0/task:0/device:TPU:2, TPU, 0, 0)\n"
          ],
          "name": "stderr"
        },
        {
          "output_type": "stream",
          "text": [
            "INFO:tensorflow:*** Available Device: _DeviceAttributes(/job:worker/replica:0/task:0/device:TPU:3, TPU, 0, 0)\n"
          ],
          "name": "stdout"
        },
        {
          "output_type": "stream",
          "text": [
            "INFO:tensorflow:*** Available Device: _DeviceAttributes(/job:worker/replica:0/task:0/device:TPU:3, TPU, 0, 0)\n"
          ],
          "name": "stderr"
        },
        {
          "output_type": "stream",
          "text": [
            "INFO:tensorflow:*** Available Device: _DeviceAttributes(/job:worker/replica:0/task:0/device:TPU:4, TPU, 0, 0)\n"
          ],
          "name": "stdout"
        },
        {
          "output_type": "stream",
          "text": [
            "INFO:tensorflow:*** Available Device: _DeviceAttributes(/job:worker/replica:0/task:0/device:TPU:4, TPU, 0, 0)\n"
          ],
          "name": "stderr"
        },
        {
          "output_type": "stream",
          "text": [
            "INFO:tensorflow:*** Available Device: _DeviceAttributes(/job:worker/replica:0/task:0/device:TPU:5, TPU, 0, 0)\n"
          ],
          "name": "stdout"
        },
        {
          "output_type": "stream",
          "text": [
            "INFO:tensorflow:*** Available Device: _DeviceAttributes(/job:worker/replica:0/task:0/device:TPU:5, TPU, 0, 0)\n"
          ],
          "name": "stderr"
        },
        {
          "output_type": "stream",
          "text": [
            "INFO:tensorflow:*** Available Device: _DeviceAttributes(/job:worker/replica:0/task:0/device:TPU:6, TPU, 0, 0)\n"
          ],
          "name": "stdout"
        },
        {
          "output_type": "stream",
          "text": [
            "INFO:tensorflow:*** Available Device: _DeviceAttributes(/job:worker/replica:0/task:0/device:TPU:6, TPU, 0, 0)\n"
          ],
          "name": "stderr"
        },
        {
          "output_type": "stream",
          "text": [
            "INFO:tensorflow:*** Available Device: _DeviceAttributes(/job:worker/replica:0/task:0/device:TPU:7, TPU, 0, 0)\n"
          ],
          "name": "stdout"
        },
        {
          "output_type": "stream",
          "text": [
            "INFO:tensorflow:*** Available Device: _DeviceAttributes(/job:worker/replica:0/task:0/device:TPU:7, TPU, 0, 0)\n"
          ],
          "name": "stderr"
        },
        {
          "output_type": "stream",
          "text": [
            "INFO:tensorflow:*** Available Device: _DeviceAttributes(/job:worker/replica:0/task:0/device:TPU_SYSTEM:0, TPU_SYSTEM, 0, 0)\n"
          ],
          "name": "stdout"
        },
        {
          "output_type": "stream",
          "text": [
            "INFO:tensorflow:*** Available Device: _DeviceAttributes(/job:worker/replica:0/task:0/device:TPU_SYSTEM:0, TPU_SYSTEM, 0, 0)\n"
          ],
          "name": "stderr"
        },
        {
          "output_type": "stream",
          "text": [
            "INFO:tensorflow:*** Available Device: _DeviceAttributes(/job:worker/replica:0/task:0/device:XLA_CPU:0, XLA_CPU, 0, 0)\n"
          ],
          "name": "stdout"
        },
        {
          "output_type": "stream",
          "text": [
            "INFO:tensorflow:*** Available Device: _DeviceAttributes(/job:worker/replica:0/task:0/device:XLA_CPU:0, XLA_CPU, 0, 0)\n"
          ],
          "name": "stderr"
        },
        {
          "output_type": "stream",
          "text": [
            "REPLICAS:  8\n"
          ],
          "name": "stdout"
        }
      ]
    },
    {
      "cell_type": "markdown",
      "metadata": {
        "id": "ZVcH_KMPBE9L",
        "colab_type": "text"
      },
      "source": [
        "# Load Datasets"
      ]
    },
    {
      "cell_type": "code",
      "metadata": {
        "id": "5JD7rxNxBA0b",
        "colab_type": "code",
        "colab": {}
      },
      "source": [
        " IDENTITY_COLUMNS  = [\n",
        "    'male', 'female', 'homosexual_gay_or_lesbian', 'christian', 'jewish',\n",
        "    'muslim', 'black', 'white', 'psychiatric_or_mental_illness'\n",
        "  ] \n",
        "TARGET_COLUMN = 'target'\n",
        "TOXICITY_COLUMN = 'toxicity'\n",
        "AUX_COLUMNS = ['target', 'severe_toxicity', 'obscene', 'identity_attack', 'insult', 'threat']"
      ],
      "execution_count": null,
      "outputs": []
    },
    {
      "cell_type": "code",
      "metadata": {
        "id": "5nxFjTNMBMaN",
        "colab_type": "code",
        "colab": {}
      },
      "source": [
        "test_public_df = pd.read_csv(\"/content/drive/My Drive/Jigsaw Unintended Bias in Toxicity Classification/data/test_public_cleared.csv\")\n",
        "#test_public_df = test_public_df.loc[:, ['toxicity','comment_text']  + IDENTITY_COLUMNS ].dropna()[:1000]\n",
        "test_private_df = pd.read_csv(\"/content/drive/My Drive/Jigsaw Unintended Bias in Toxicity Classification/data/test_private_cleared.csv\")\n",
        "#test_private_df = test_private_df.loc[:, ['toxicity', 'comment_text'] + IDENTITY_COLUMNS ].dropna()[:1000]"
      ],
      "execution_count": null,
      "outputs": []
    },
    {
      "cell_type": "code",
      "metadata": {
        "id": "GIFdG20XBPmH",
        "colab_type": "code",
        "colab": {}
      },
      "source": [
        "y_public_test = test_public_df[TOXICITY_COLUMN].values.reshape((-1,1))\n",
        "y_private_test = test_private_df[TOXICITY_COLUMN].values.reshape((-1,1))"
      ],
      "execution_count": null,
      "outputs": []
    },
    {
      "cell_type": "markdown",
      "metadata": {
        "id": "PK2eBqJgCvyR",
        "colab_type": "text"
      },
      "source": [
        "# Get datasets\n",
        "\n"
      ]
    },
    {
      "cell_type": "code",
      "metadata": {
        "id": "FMZGFjB3G-id",
        "colab_type": "code",
        "colab": {}
      },
      "source": [
        "def get_dataset(PATH,forTest = False):\n",
        "  \n",
        "  with open('/content/drive/My Drive/Jigsaw Unintended Bias in Toxicity Classification/models/RoBERTa/data/'+PATH+'/input_ids.npy','rb') as f:\n",
        "    input_ids = np.load(f)\n",
        "\n",
        "  with open('/content/drive/My Drive/Jigsaw Unintended Bias in Toxicity Classification/models/RoBERTa/data/'+PATH+'/input_mask.npy','rb') as f:\n",
        "    attention_mask = np.load(f)\n",
        "\n",
        "\n",
        "  if(forTest):\n",
        "    return tf.data.Dataset.from_tensor_slices({\"input_word_ids\" : input_ids , \"input_mask\" :attention_mask }).batch(BATCH_SIZE)\n",
        "  else :\n",
        "    with open('/content/drive/My Drive/Jigsaw Unintended Bias in Toxicity Classification/models/RoBERTa/data/'+PATH+'/labels.npy','rb') as f:\n",
        "      labels = np.load(f)\n",
        "    with open('/content/drive/My Drive/Jigsaw Unintended Bias in Toxicity Classification/models/RoBERTa/data/'+PATH+'/labels_aux.npy','rb') as f:\n",
        "      labels_aux =np.load(f)\n",
        "    with open('/content/drive/My Drive/Jigsaw Unintended Bias in Toxicity Classification/models/RoBERTa/data/'+PATH+'/sample_weights.npy','rb') as f:\n",
        "      sample_weights = np.load(f)\n",
        "    return tf.data.Dataset.from_tensor_slices(({\"input_word_ids\" : input_ids , \"input_mask\" : attention_mask}\n",
        "                                                    ,{\"target\": labels, \"aux\": labels_aux},sample_weights ))\n",
        "                                                    "
      ],
      "execution_count": null,
      "outputs": []
    },
    {
      "cell_type": "markdown",
      "metadata": {
        "id": "srZMs_V7Jo3X",
        "colab_type": "text"
      },
      "source": [
        "# RoBERTa-with-max-avg-pool"
      ]
    },
    {
      "cell_type": "markdown",
      "metadata": {
        "id": "IVv9JHYlaGyf",
        "colab_type": "text"
      },
      "source": [
        "## Create Model"
      ]
    },
    {
      "cell_type": "code",
      "metadata": {
        "id": "uRzgJpgtZNvT",
        "colab_type": "code",
        "colab": {}
      },
      "source": [
        "def createRoBERTa(roberta_layer):\n",
        "  input_word_ids = tf.keras.layers.Input(shape=(MAX_LEN,), dtype=tf.int32,\n",
        "                                       name=\"input_word_ids\")\n",
        "  input_mask = tf.keras.layers.Input(shape=(MAX_LEN,), dtype=tf.int32,\n",
        "                                   name=\"input_mask\")\n",
        "  \n",
        "  sequence_output , pooled_output = roberta_layer([input_word_ids, input_mask])\n",
        "\n",
        "  avg_pool = tf.keras.layers.GlobalAveragePooling1D()(sequence_output)\n",
        "  max_pool = tf.keras.layers.GlobalMaxPooling1D()(sequence_output)\n",
        "  x = tf.keras.layers.concatenate([avg_pool,max_pool])\n",
        "  \n",
        "\n",
        "  x = tf.keras.layers.Dropout(0.2)(x)\n",
        "  \n",
        "  result = tf.keras.layers.Dense(1, activation=\"sigmoid\", name=\"target\")(x)\n",
        "  aux_result =  tf.keras.layers.Dense(6, activation='sigmoid' , name = 'aux')(x)\n",
        "\n",
        "  model = tf.keras.Model(inputs=[input_word_ids, input_mask], outputs=[result, aux_result])\n",
        "  model.compile(loss=tf.keras.losses.BinaryCrossentropy(),\n",
        "              optimizer=tf.keras.optimizers.Adam(learning_rate=2e-5),metrics = ['accuracy'])\n",
        "  return model"
      ],
      "execution_count": null,
      "outputs": []
    },
    {
      "cell_type": "markdown",
      "metadata": {
        "id": "SIcW67p_juyq",
        "colab_type": "text"
      },
      "source": [
        "## RoBERTa - base"
      ]
    },
    {
      "cell_type": "code",
      "metadata": {
        "id": "x4SP9YqmAvDS",
        "colab_type": "code",
        "colab": {}
      },
      "source": [
        "BATCH_SIZE = 64 \n",
        "EPOCHS = 4\n",
        "MAX_LEN = 180\n",
        "BUFFER_SIZE =  np.ceil(1804874 * 0.8)\n",
        "MODEL = 'roberta-base'"
      ],
      "execution_count": null,
      "outputs": []
    },
    {
      "cell_type": "code",
      "metadata": {
        "id": "UE-UpXqMNb3v",
        "colab_type": "code",
        "colab": {
          "base_uri": "https://localhost:8080/",
          "height": 34
        },
        "outputId": "a70cd1b6-9a92-4b1f-a192-d1438a8947d6"
      },
      "source": [
        "AUTO = tf.data.experimental.AUTOTUNE\n",
        "train_inputs_ds = get_dataset('train').repeat().shuffle(BUFFER_SIZE).batch(BATCH_SIZE).prefetch(AUTO)\n",
        "gc.collect()\n",
        "val_inputs_ds = get_dataset('val').batch(BATCH_SIZE).cache().prefetch(AUTO)\n",
        "gc.collect()\n",
        "test_public_inputs_ds = get_dataset('test_public',forTest = True)\n",
        "gc.collect()\n",
        "test_private_inputs_ds = get_dataset('test_private',forTest = True)\n",
        "gc.collect()"
      ],
      "execution_count": null,
      "outputs": [
        {
          "output_type": "execute_result",
          "data": {
            "text/plain": [
              "6"
            ]
          },
          "metadata": {
            "tags": []
          },
          "execution_count": 10
        }
      ]
    },
    {
      "cell_type": "code",
      "metadata": {
        "id": "ERTHQ2do8C_h",
        "colab_type": "code",
        "colab": {
          "base_uri": "https://localhost:8080/",
          "height": 1000
        },
        "outputId": "46fb3fb2-c886-4b30-cc94-0debeb6f9c95"
      },
      "source": [
        "with strategy.scope():\n",
        "  roberta_layer = TFAutoModel.from_pretrained(MODEL)\n",
        "  model = createRoBERTa(roberta_layer)\n",
        "model.summary()\n",
        "tf.keras.utils.plot_model(model, show_shapes= True ,show_layer_names=False, \n",
        "                  to_file='/content/drive/My Drive/Jigsaw Unintended Bias in Toxicity Classification/models/RoBERTa/RoBERTa-with-max-avg-pool/RoBERTawPOOL.png')"
      ],
      "execution_count": null,
      "outputs": [
        {
          "output_type": "stream",
          "text": [
            "WARNING:transformers.modeling_tf_utils:Some weights of the model checkpoint at roberta-base were not used when initializing TFRobertaModel: ['lm_head']\n",
            "- This IS expected if you are initializing TFRobertaModel from the checkpoint of a model trained on another task or with another architecture (e.g. initializing a BertForSequenceClassification model from a BertForPretraining model).\n",
            "- This IS NOT expected if you are initializing TFRobertaModel from the checkpoint of a model that you expect to be exactly identical (initializing a BertForSequenceClassification model from a BertForSequenceClassification model).\n",
            "WARNING:transformers.modeling_tf_utils:All the weights of TFRobertaModel were initialized from the model checkpoint at roberta-base.\n",
            "If your task is similar to the task the model of the ckeckpoint was trained on, you can already use TFRobertaModel for predictions without further training.\n"
          ],
          "name": "stderr"
        },
        {
          "output_type": "stream",
          "text": [
            "Model: \"functional_1\"\n",
            "__________________________________________________________________________________________________\n",
            "Layer (type)                    Output Shape         Param #     Connected to                     \n",
            "==================================================================================================\n",
            "input_word_ids (InputLayer)     [(None, 180)]        0                                            \n",
            "__________________________________________________________________________________________________\n",
            "input_mask (InputLayer)         [(None, 180)]        0                                            \n",
            "__________________________________________________________________________________________________\n",
            "tf_roberta_model_1 (TFRobertaMo ((None, 180, 768), ( 124645632   input_word_ids[0][0]             \n",
            "                                                                 input_mask[0][0]                 \n",
            "__________________________________________________________________________________________________\n",
            "global_average_pooling1d (Globa (None, 768)          0           tf_roberta_model_1[0][0]         \n",
            "__________________________________________________________________________________________________\n",
            "global_max_pooling1d (GlobalMax (None, 768)          0           tf_roberta_model_1[0][0]         \n",
            "__________________________________________________________________________________________________\n",
            "concatenate (Concatenate)       (None, 1536)         0           global_average_pooling1d[0][0]   \n",
            "                                                                 global_max_pooling1d[0][0]       \n",
            "__________________________________________________________________________________________________\n",
            "dropout_76 (Dropout)            (None, 1536)         0           concatenate[0][0]                \n",
            "__________________________________________________________________________________________________\n",
            "target (Dense)                  (None, 1)            1537        dropout_76[0][0]                 \n",
            "__________________________________________________________________________________________________\n",
            "aux (Dense)                     (None, 6)            9222        dropout_76[0][0]                 \n",
            "==================================================================================================\n",
            "Total params: 124,656,391\n",
            "Trainable params: 124,656,391\n",
            "Non-trainable params: 0\n",
            "__________________________________________________________________________________________________\n"
          ],
          "name": "stdout"
        },
        {
          "output_type": "execute_result",
          "data": {
            "image/png": "[encoded data removed]",
            "text/plain": [
              "<IPython.core.display.Image object>"
            ]
          },
          "metadata": {
            "tags": []
          },
          "execution_count": 7
        }
      ]
    },
    {
      "cell_type": "code",
      "metadata": {
        "id": "cg-JqI1caSMi",
        "colab_type": "code",
        "colab": {
          "base_uri": "https://localhost:8080/",
          "height": 649
        },
        "outputId": "6fa740f9-0f09-4b7c-9b28-11550f7d43ce"
      },
      "source": [
        "n_steps = BUFFER_SIZE // BATCH_SIZE \n",
        "for epoch in range(EPOCHS):\n",
        "  model.fit(x = train_inputs_ds,validation_data=val_inputs_ds , epochs = 1 \n",
        "                          ,verbose = 1 , steps_per_epoch=n_steps )\n",
        "  y_public_pred  = model.predict(test_public_inputs_ds, verbose=1 )\n",
        "  y_private_pred = model.predict(test_private_inputs_ds, verbose=1 )\n",
        "  evaluate(y_public_pred[0],y_private_pred[0], test_public_df, test_private_df, 'RoBERTa/RoBERTa-with-max-avg-pool/' + str(epoch+1) + '_epochs' , MODEL)"
      ],
      "execution_count": null,
      "outputs": [
        {
          "output_type": "stream",
          "text": [
            "WARNING:tensorflow:Gradients do not exist for variables ['tf_roberta_model/roberta/pooler/dense/kernel:0', 'tf_roberta_model/roberta/pooler/dense/bias:0'] when minimizing the loss.\n"
          ],
          "name": "stdout"
        },
        {
          "output_type": "stream",
          "text": [
            "WARNING:tensorflow:Gradients do not exist for variables ['tf_roberta_model/roberta/pooler/dense/kernel:0', 'tf_roberta_model/roberta/pooler/dense/bias:0'] when minimizing the loss.\n"
          ],
          "name": "stderr"
        },
        {
          "output_type": "stream",
          "text": [
            "WARNING:tensorflow:Gradients do not exist for variables ['tf_roberta_model/roberta/pooler/dense/kernel:0', 'tf_roberta_model/roberta/pooler/dense/bias:0'] when minimizing the loss.\n"
          ],
          "name": "stdout"
        },
        {
          "output_type": "stream",
          "text": [
            "WARNING:tensorflow:Gradients do not exist for variables ['tf_roberta_model/roberta/pooler/dense/kernel:0', 'tf_roberta_model/roberta/pooler/dense/bias:0'] when minimizing the loss.\n"
          ],
          "name": "stderr"
        },
        {
          "output_type": "stream",
          "text": [
            "WARNING:tensorflow:Gradients do not exist for variables ['tf_roberta_model/roberta/pooler/dense/kernel:0', 'tf_roberta_model/roberta/pooler/dense/bias:0'] when minimizing the loss.\n"
          ],
          "name": "stdout"
        },
        {
          "output_type": "stream",
          "text": [
            "WARNING:tensorflow:Gradients do not exist for variables ['tf_roberta_model/roberta/pooler/dense/kernel:0', 'tf_roberta_model/roberta/pooler/dense/bias:0'] when minimizing the loss.\n"
          ],
          "name": "stderr"
        },
        {
          "output_type": "stream",
          "text": [
            "WARNING:tensorflow:Gradients do not exist for variables ['tf_roberta_model/roberta/pooler/dense/kernel:0', 'tf_roberta_model/roberta/pooler/dense/bias:0'] when minimizing the loss.\n"
          ],
          "name": "stdout"
        },
        {
          "output_type": "stream",
          "text": [
            "WARNING:tensorflow:Gradients do not exist for variables ['tf_roberta_model/roberta/pooler/dense/kernel:0', 'tf_roberta_model/roberta/pooler/dense/bias:0'] when minimizing the loss.\n"
          ],
          "name": "stderr"
        },
        {
          "output_type": "stream",
          "text": [
            "22560/22560 [==============================] - 3834s 170ms/step - target_loss: 0.3171 - aux_loss: 0.1482 - aux_accuracy: 0.1287 - target_accuracy: 0.6993 - loss: 0.4654 - val_target_loss: 0.3352 - val_aux_loss: 0.1653 - val_aux_accuracy: 0.1911 - val_target_accuracy: 0.6943 - val_loss: 0.5005\n",
            "1521/1521 [==============================] - 77s 50ms/step\n",
            "1521/1521 [==============================] - 72s 47ms/step\n",
            "Accuracy on public test: 0.941132\n",
            "Accuracy on private test: 0.941934\n",
            "Public AUC score : 0.941909\n",
            "Private AUC score : 0.941982\n",
            "22560/22560 [==============================] - 3879s 172ms/step - target_loss: 0.3048 - aux_loss: 0.1421 - aux_accuracy: 0.1246 - target_accuracy: 0.7006 - loss: 0.4470 - val_target_loss: 0.3247 - val_aux_loss: 0.1575 - val_aux_accuracy: 0.2288 - val_target_accuracy: 0.6961 - val_loss: 0.4822\n",
            "1521/1521 [==============================] - 72s 47ms/step\n",
            "1521/1521 [==============================] - 71s 47ms/step\n",
            "Accuracy on public test: 0.946465\n",
            "Accuracy on private test: 0.946301\n",
            "Public AUC score : 0.945036\n",
            "Private AUC score : 0.943449\n",
            "22560/22560 [==============================] - 3842s 170ms/step - target_loss: 0.2984 - aux_loss: 0.1394 - aux_accuracy: 0.1200 - target_accuracy: 0.7005 - loss: 0.4379 - val_target_loss: 0.3148 - val_aux_loss: 0.1525 - val_aux_accuracy: 0.3312 - val_target_accuracy: 0.6980 - val_loss: 0.4673\n",
            "1521/1521 [==============================] - 72s 47ms/step\n",
            "1521/1521 [==============================] - 73s 48ms/step\n",
            "Accuracy on public test: 0.953566\n",
            "Accuracy on private test: 0.953905\n",
            "Public AUC score : 0.943140\n",
            "Private AUC score : 0.941506\n",
            "22560/22560 [==============================] - 3821s 169ms/step - target_loss: 0.2924 - aux_loss: 0.1370 - aux_accuracy: 0.1171 - target_accuracy: 0.7005 - loss: 0.4294 - val_target_loss: 0.3172 - val_aux_loss: 0.1506 - val_aux_accuracy: 0.4344 - val_target_accuracy: 0.6980 - val_loss: 0.4678\n",
            "1521/1521 [==============================] - 71s 47ms/step\n",
            "1521/1521 [==============================] - 71s 47ms/step\n",
            "Accuracy on public test: 0.953802\n",
            "Accuracy on private test: 0.953247\n",
            "Public AUC score : 0.943298\n",
            "Private AUC score : 0.941226\n"
          ],
          "name": "stdout"
        }
      ]
    }
  ]
}