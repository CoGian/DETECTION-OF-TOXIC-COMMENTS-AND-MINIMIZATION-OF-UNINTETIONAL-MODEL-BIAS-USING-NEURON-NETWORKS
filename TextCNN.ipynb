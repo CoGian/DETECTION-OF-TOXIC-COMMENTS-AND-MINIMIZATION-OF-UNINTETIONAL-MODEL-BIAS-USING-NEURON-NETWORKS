{
  "nbformat": 4,
  "nbformat_minor": 0,
  "metadata": {
    "colab": {
      "name": "TextCNN.ipynb",
      "provenance": [],
      "collapsed_sections": [],
      "toc_visible": true,
      "authorship_tag": "ABX9TyNXQnXjf3UbgMqqMgKSTWIR",
      "include_colab_link": true
    },
    "kernelspec": {
      "name": "python3",
      "display_name": "Python 3"
    },
    "accelerator": "TPU"
  },
  "cells": [
    {
      "cell_type": "markdown",
      "metadata": {
        "id": "view-in-github",
        "colab_type": "text"
      },
      "source": [
        "<a href=\"https://colab.research.google.com/github/CoGian/Detection-of-toxic-comments-and-minimization-of-unintended-model-bias-using-neural-networks/blob/master/TextCNN.ipynb\" target=\"_parent\"><img src=\"https://colab.research.google.com/assets/colab-badge.svg\" alt=\"Open In Colab\"/></a>"
      ]
    },
    {
      "cell_type": "code",
      "metadata": {
        "id": "xZEPMZQAfkCF",
        "colab_type": "code",
        "colab": {
          "base_uri": "https://localhost:8080/",
          "height": 34
        },
        "outputId": "8bf5a17e-c4bc-494e-c3ed-0fefdf2ceb5a"
      },
      "source": [
        "from google.colab import drive\n",
        "drive.mount('/content/drive' )"
      ],
      "execution_count": null,
      "outputs": [
        {
          "output_type": "stream",
          "text": [
            "Drive already mounted at /content/drive; to attempt to forcibly remount, call drive.mount(\"/content/drive\", force_remount=True).\n"
          ],
          "name": "stdout"
        }
      ]
    },
    {
      "cell_type": "code",
      "metadata": {
        "id": "NGTb9xAEftbs",
        "colab_type": "code",
        "colab": {}
      },
      "source": [
        "import numpy as np \n",
        "import pandas as pd\n",
        "import tensorflow as tf \n",
        "import random\n",
        "import pickle \n",
        "import gc\n",
        "import os\n",
        "from sklearn import metrics\n",
        "from sklearn.model_selection import train_test_split\n",
        "import sys\n",
        "import matplotlib.pyplot as plt\n",
        "from matplotlib import gridspec\n",
        "sys.path.append('/content/drive/My Drive/Jigsaw Unintended Bias in Toxicity Classification/tools')\n",
        "sys.path.append('/content/drive/My Drive/Jigsaw Unintended Bias in Toxicity Classification')\n",
        "from tools_benchmark import  compute_bias_metrics_for_model, calculate_overall_auc,get_final_metric\n",
        "from tools_load_data import get_datasets\n",
        "from tools_evaluate_model import evaluate, plot_history_for_accuracy_and_loss"
      ],
      "execution_count": null,
      "outputs": []
    },
    {
      "cell_type": "markdown",
      "metadata": {
        "id": "5xDy_Onxf3ar",
        "colab_type": "text"
      },
      "source": [
        "# TPU Configs"
      ]
    },
    {
      "cell_type": "code",
      "metadata": {
        "id": "P-Mz_GC8f4eJ",
        "colab_type": "code",
        "colab": {
          "base_uri": "https://localhost:8080/",
          "height": 748
        },
        "outputId": "067c7b22-3ad5-483d-ffbd-8c9bbe9c6775"
      },
      "source": [
        "# Detect hardware, return appropriate distribution strategy\n",
        "try:\n",
        "    # TPU detection. No parameters necessary if TPU_NAME environment variable is\n",
        "    # set: this is always the case on Kaggle.\n",
        "    tpu = tf.distribute.cluster_resolver.TPUClusterResolver()\n",
        "    print('Running on TPU ', tpu.master())\n",
        "except ValueError:\n",
        "    tpu = None\n",
        "\n",
        "if tpu:\n",
        "    tf.config.experimental_connect_to_cluster(tpu)\n",
        "    tf.tpu.experimental.initialize_tpu_system(tpu)\n",
        "    strategy = tf.distribute.experimental.TPUStrategy(tpu)\n",
        "else:\n",
        "    # Default distribution strategy in Tensorflow. Works on CPU and single GPU.\n",
        "    strategy = tf.distribute.get_strategy()\n",
        "\n",
        "print(\"REPLICAS: \", strategy.num_replicas_in_sync)"
      ],
      "execution_count": null,
      "outputs": [
        {
          "output_type": "stream",
          "text": [
            "Running on TPU  grpc://10.91.225.50:8470\n",
            "INFO:tensorflow:Initializing the TPU system: grpc://10.91.225.50:8470\n"
          ],
          "name": "stdout"
        },
        {
          "output_type": "stream",
          "text": [
            "INFO:tensorflow:Initializing the TPU system: grpc://10.91.225.50:8470\n"
          ],
          "name": "stderr"
        },
        {
          "output_type": "stream",
          "text": [
            "INFO:tensorflow:Clearing out eager caches\n"
          ],
          "name": "stdout"
        },
        {
          "output_type": "stream",
          "text": [
            "INFO:tensorflow:Clearing out eager caches\n"
          ],
          "name": "stderr"
        },
        {
          "output_type": "stream",
          "text": [
            "INFO:tensorflow:Finished initializing TPU system.\n"
          ],
          "name": "stdout"
        },
        {
          "output_type": "stream",
          "text": [
            "INFO:tensorflow:Finished initializing TPU system.\n",
            "WARNING:absl:`tf.distribute.experimental.TPUStrategy` is deprecated, please use  the non experimental symbol `tf.distribute.TPUStrategy` instead.\n"
          ],
          "name": "stderr"
        },
        {
          "output_type": "stream",
          "text": [
            "INFO:tensorflow:Found TPU system:\n"
          ],
          "name": "stdout"
        },
        {
          "output_type": "stream",
          "text": [
            "INFO:tensorflow:Found TPU system:\n"
          ],
          "name": "stderr"
        },
        {
          "output_type": "stream",
          "text": [
            "INFO:tensorflow:*** Num TPU Cores: 8\n"
          ],
          "name": "stdout"
        },
        {
          "output_type": "stream",
          "text": [
            "INFO:tensorflow:*** Num TPU Cores: 8\n"
          ],
          "name": "stderr"
        },
        {
          "output_type": "stream",
          "text": [
            "INFO:tensorflow:*** Num TPU Workers: 1\n"
          ],
          "name": "stdout"
        },
        {
          "output_type": "stream",
          "text": [
            "INFO:tensorflow:*** Num TPU Workers: 1\n"
          ],
          "name": "stderr"
        },
        {
          "output_type": "stream",
          "text": [
            "INFO:tensorflow:*** Num TPU Cores Per Worker: 8\n"
          ],
          "name": "stdout"
        },
        {
          "output_type": "stream",
          "text": [
            "INFO:tensorflow:*** Num TPU Cores Per Worker: 8\n"
          ],
          "name": "stderr"
        },
        {
          "output_type": "stream",
          "text": [
            "INFO:tensorflow:*** Available Device: _DeviceAttributes(/job:localhost/replica:0/task:0/device:CPU:0, CPU, 0, 0)\n"
          ],
          "name": "stdout"
        },
        {
          "output_type": "stream",
          "text": [
            "INFO:tensorflow:*** Available Device: _DeviceAttributes(/job:localhost/replica:0/task:0/device:CPU:0, CPU, 0, 0)\n"
          ],
          "name": "stderr"
        },
        {
          "output_type": "stream",
          "text": [
            "INFO:tensorflow:*** Available Device: _DeviceAttributes(/job:localhost/replica:0/task:0/device:XLA_CPU:0, XLA_CPU, 0, 0)\n"
          ],
          "name": "stdout"
        },
        {
          "output_type": "stream",
          "text": [
            "INFO:tensorflow:*** Available Device: _DeviceAttributes(/job:localhost/replica:0/task:0/device:XLA_CPU:0, XLA_CPU, 0, 0)\n"
          ],
          "name": "stderr"
        },
        {
          "output_type": "stream",
          "text": [
            "INFO:tensorflow:*** Available Device: _DeviceAttributes(/job:worker/replica:0/task:0/device:CPU:0, CPU, 0, 0)\n"
          ],
          "name": "stdout"
        },
        {
          "output_type": "stream",
          "text": [
            "INFO:tensorflow:*** Available Device: _DeviceAttributes(/job:worker/replica:0/task:0/device:CPU:0, CPU, 0, 0)\n"
          ],
          "name": "stderr"
        },
        {
          "output_type": "stream",
          "text": [
            "INFO:tensorflow:*** Available Device: _DeviceAttributes(/job:worker/replica:0/task:0/device:TPU:0, TPU, 0, 0)\n"
          ],
          "name": "stdout"
        },
        {
          "output_type": "stream",
          "text": [
            "INFO:tensorflow:*** Available Device: _DeviceAttributes(/job:worker/replica:0/task:0/device:TPU:0, TPU, 0, 0)\n"
          ],
          "name": "stderr"
        },
        {
          "output_type": "stream",
          "text": [
            "INFO:tensorflow:*** Available Device: _DeviceAttributes(/job:worker/replica:0/task:0/device:TPU:1, TPU, 0, 0)\n"
          ],
          "name": "stdout"
        },
        {
          "output_type": "stream",
          "text": [
            "INFO:tensorflow:*** Available Device: _DeviceAttributes(/job:worker/replica:0/task:0/device:TPU:1, TPU, 0, 0)\n"
          ],
          "name": "stderr"
        },
        {
          "output_type": "stream",
          "text": [
            "INFO:tensorflow:*** Available Device: _DeviceAttributes(/job:worker/replica:0/task:0/device:TPU:2, TPU, 0, 0)\n"
          ],
          "name": "stdout"
        },
        {
          "output_type": "stream",
          "text": [
            "INFO:tensorflow:*** Available Device: _DeviceAttributes(/job:worker/replica:0/task:0/device:TPU:2, TPU, 0, 0)\n"
          ],
          "name": "stderr"
        },
        {
          "output_type": "stream",
          "text": [
            "INFO:tensorflow:*** Available Device: _DeviceAttributes(/job:worker/replica:0/task:0/device:TPU:3, TPU, 0, 0)\n"
          ],
          "name": "stdout"
        },
        {
          "output_type": "stream",
          "text": [
            "INFO:tensorflow:*** Available Device: _DeviceAttributes(/job:worker/replica:0/task:0/device:TPU:3, TPU, 0, 0)\n"
          ],
          "name": "stderr"
        },
        {
          "output_type": "stream",
          "text": [
            "INFO:tensorflow:*** Available Device: _DeviceAttributes(/job:worker/replica:0/task:0/device:TPU:4, TPU, 0, 0)\n"
          ],
          "name": "stdout"
        },
        {
          "output_type": "stream",
          "text": [
            "INFO:tensorflow:*** Available Device: _DeviceAttributes(/job:worker/replica:0/task:0/device:TPU:4, TPU, 0, 0)\n"
          ],
          "name": "stderr"
        },
        {
          "output_type": "stream",
          "text": [
            "INFO:tensorflow:*** Available Device: _DeviceAttributes(/job:worker/replica:0/task:0/device:TPU:5, TPU, 0, 0)\n"
          ],
          "name": "stdout"
        },
        {
          "output_type": "stream",
          "text": [
            "INFO:tensorflow:*** Available Device: _DeviceAttributes(/job:worker/replica:0/task:0/device:TPU:5, TPU, 0, 0)\n"
          ],
          "name": "stderr"
        },
        {
          "output_type": "stream",
          "text": [
            "INFO:tensorflow:*** Available Device: _DeviceAttributes(/job:worker/replica:0/task:0/device:TPU:6, TPU, 0, 0)\n"
          ],
          "name": "stdout"
        },
        {
          "output_type": "stream",
          "text": [
            "INFO:tensorflow:*** Available Device: _DeviceAttributes(/job:worker/replica:0/task:0/device:TPU:6, TPU, 0, 0)\n"
          ],
          "name": "stderr"
        },
        {
          "output_type": "stream",
          "text": [
            "INFO:tensorflow:*** Available Device: _DeviceAttributes(/job:worker/replica:0/task:0/device:TPU:7, TPU, 0, 0)\n"
          ],
          "name": "stdout"
        },
        {
          "output_type": "stream",
          "text": [
            "INFO:tensorflow:*** Available Device: _DeviceAttributes(/job:worker/replica:0/task:0/device:TPU:7, TPU, 0, 0)\n"
          ],
          "name": "stderr"
        },
        {
          "output_type": "stream",
          "text": [
            "INFO:tensorflow:*** Available Device: _DeviceAttributes(/job:worker/replica:0/task:0/device:TPU_SYSTEM:0, TPU_SYSTEM, 0, 0)\n"
          ],
          "name": "stdout"
        },
        {
          "output_type": "stream",
          "text": [
            "INFO:tensorflow:*** Available Device: _DeviceAttributes(/job:worker/replica:0/task:0/device:TPU_SYSTEM:0, TPU_SYSTEM, 0, 0)\n"
          ],
          "name": "stderr"
        },
        {
          "output_type": "stream",
          "text": [
            "INFO:tensorflow:*** Available Device: _DeviceAttributes(/job:worker/replica:0/task:0/device:XLA_CPU:0, XLA_CPU, 0, 0)\n"
          ],
          "name": "stdout"
        },
        {
          "output_type": "stream",
          "text": [
            "INFO:tensorflow:*** Available Device: _DeviceAttributes(/job:worker/replica:0/task:0/device:XLA_CPU:0, XLA_CPU, 0, 0)\n"
          ],
          "name": "stderr"
        },
        {
          "output_type": "stream",
          "text": [
            "REPLICAS:  8\n"
          ],
          "name": "stdout"
        }
      ]
    },
    {
      "cell_type": "code",
      "metadata": {
        "id": "lVmtEeDZf8Up",
        "colab_type": "code",
        "colab": {}
      },
      "source": [
        "MODEL_NO = 2 \n",
        "BATCH_SIZE = 512 \n",
        "EPOCHS = 10"
      ],
      "execution_count": null,
      "outputs": []
    },
    {
      "cell_type": "markdown",
      "metadata": {
        "id": "YaDh15LJgCSP",
        "colab_type": "text"
      },
      "source": [
        "# Load Datasets"
      ]
    },
    {
      "cell_type": "code",
      "metadata": {
        "id": "mxPFIq0Pf_eG",
        "colab_type": "code",
        "colab": {}
      },
      "source": [
        " IDENTITY_COLUMNS  = [\n",
        "    'male', 'female', 'homosexual_gay_or_lesbian', 'christian', 'jewish',\n",
        "    'muslim', 'black', 'white', 'psychiatric_or_mental_illness'\n",
        "  ] "
      ],
      "execution_count": null,
      "outputs": []
    },
    {
      "cell_type": "code",
      "metadata": {
        "id": "8QKR81mVgFi4",
        "colab_type": "code",
        "colab": {}
      },
      "source": [
        "train_df = pd.read_csv(\"/content/drive/My Drive/Jigsaw Unintended Bias in Toxicity Classification/data/train_cleared.csv\")\n",
        "# train_df = train_df.sample(frac=0.1)\n",
        "test_public_df = pd.read_csv(\"/content/drive/My Drive/Jigsaw Unintended Bias in Toxicity Classification/data/test_public_cleared.csv\")\n",
        "# test_public_df = test_public_df.loc[:, ['toxicity','comment_text']  + IDENTITY_COLUMNS ].dropna()[:1000]\n",
        "test_private_df = pd.read_csv(\"/content/drive/My Drive/Jigsaw Unintended Bias in Toxicity Classification/data/test_private_cleared.csv\")\n",
        "# test_private_df = test_private_df.loc[:, ['toxicity', 'comment_text'] + IDENTITY_COLUMNS ].dropna()[:1000]"
      ],
      "execution_count": null,
      "outputs": []
    },
    {
      "cell_type": "code",
      "metadata": {
        "id": "tp0o1EkFgHqh",
        "colab_type": "code",
        "colab": {}
      },
      "source": [
        "# split \n",
        "train_df , val_df = train_test_split(train_df,test_size = 0.2 , random_state = 13 , shuffle = True)"
      ],
      "execution_count": null,
      "outputs": []
    },
    {
      "cell_type": "code",
      "metadata": {
        "id": "bjquhAmfgMZ5",
        "colab_type": "code",
        "colab": {}
      },
      "source": [
        "%%time \n",
        "train_dataset,validation_dataset, public_test_dataset, private_test_dataset , embedding_matrix = get_datasets(train_df, val_df, test_public_df, test_private_df)"
      ],
      "execution_count": null,
      "outputs": []
    },
    {
      "cell_type": "code",
      "metadata": {
        "id": "8rK5lTP_cKhk",
        "colab_type": "code",
        "colab": {
          "base_uri": "https://localhost:8080/",
          "height": 34
        },
        "outputId": "a874b097-21b4-4e08-f069-42bddd06dbb5"
      },
      "source": [
        "train_df_len = len(train_df)\n",
        "del train_df\n",
        "del val_df\n",
        "gc.collect()"
      ],
      "execution_count": null,
      "outputs": [
        {
          "output_type": "execute_result",
          "data": {
            "text/plain": [
              "0"
            ]
          },
          "metadata": {
            "tags": []
          },
          "execution_count": 9
        }
      ]
    },
    {
      "cell_type": "markdown",
      "metadata": {
        "id": "ZkygYYBkgebT",
        "colab_type": "text"
      },
      "source": [
        "# Training and evaluation of models"
      ]
    },
    {
      "cell_type": "code",
      "metadata": {
        "id": "fU-VxY9ogY9g",
        "colab_type": "code",
        "colab": {}
      },
      "source": [
        "class CustomStopper(tf.keras.callbacks.EarlyStopping):\n",
        "    def __init__(self, monitor='val_loss',\n",
        "             min_delta=0, patience=0, verbose=0, mode='auto', start_epoch = 2 , restore_best_weights = True): # add argument for starting epoch\n",
        "        super(CustomStopper, self).__init__(monitor=monitor,patience=patience,min_delta=min_delta,mode=mode, restore_best_weights = restore_best_weights)\n",
        "        self.start_epoch = start_epoch\n",
        "\n",
        "    def on_epoch_end(self, epoch, logs=None):\n",
        "        if epoch > self.start_epoch:\n",
        "            super().on_epoch_end(epoch, logs)"
      ],
      "execution_count": null,
      "outputs": []
    },
    {
      "cell_type": "code",
      "metadata": {
        "id": "VK7aRqQMgh9p",
        "colab_type": "code",
        "colab": {}
      },
      "source": [
        "es = CustomStopper(start_epoch=2)"
      ],
      "execution_count": null,
      "outputs": []
    },
    {
      "cell_type": "markdown",
      "metadata": {
        "id": "r2qdzzVUgmHX",
        "colab_type": "text"
      },
      "source": [
        "## Build model"
      ]
    },
    {
      "cell_type": "code",
      "metadata": {
        "id": "c-EgOLF4go2Z",
        "colab_type": "code",
        "colab": {}
      },
      "source": [
        "def create_TextCNN(embedding_matrix):\n",
        "  words = tf.keras.Input(shape=(None,))\n",
        "  x = tf.keras.layers.Embedding(*embedding_matrix.shape, weights=[embedding_matrix], trainable=False)(words)\n",
        "  convs = []\n",
        "  filter_sizes = [2,3,4,5,6]\n",
        "\n",
        "  for filter_size in filter_sizes:\n",
        "    l_conv = tf.keras.layers.Conv1D(filters=128, \n",
        "                        kernel_size=filter_size, \n",
        "                        activation='relu')(x)\n",
        "    l_pool =tf.keras.layers.GlobalMaxPooling1D()(l_conv)\n",
        "    convs.append(l_pool)\n",
        "  \n",
        "  l_merge = tf.concat(convs, axis=1) \n",
        "  x = tf.keras.layers.Dense(128, activation='relu')(l_merge)\n",
        "  x = tf.keras.layers.Dropout(0.2)(x)\n",
        "  result = tf.keras.layers.Dense(1, activation='sigmoid', name = 'target')(x)\n",
        "  aux_result =  tf.keras.layers.Dense(6, activation='sigmoid', name = 'aux')(x)\n",
        "\n",
        "  model = tf.keras.Model(inputs=words, outputs=[result, aux_result])\n",
        "  model.compile(loss='binary_crossentropy', optimizer='adam',metrics=['accuracy'])\n",
        "\n",
        "  return model "
      ],
      "execution_count": null,
      "outputs": []
    },
    {
      "cell_type": "markdown",
      "metadata": {
        "id": "hac8KeJPhS0e",
        "colab_type": "text"
      },
      "source": [
        "## Train and tune the model"
      ]
    },
    {
      "cell_type": "code",
      "metadata": {
        "id": "CUXgXW1thXsq",
        "colab_type": "code",
        "colab": {}
      },
      "source": [
        "def train():\n",
        "  histories = [] \n",
        "  public_predictions = [] \n",
        "  private_predictions = [] \n",
        "  MODEL_NAME = \"TextCNNBase\" \n",
        "  print(\"\\nTextCNNBase\")\n",
        "  PATH = 'TextCNN/' + MODEL_NAME\n",
        "      \n",
        "  for i in range(MODEL_NO):\n",
        "    \n",
        "    with strategy.scope():\n",
        "      # create model \n",
        "      TextCNN = create_TextCNN(embedding_matrix)\n",
        "    TextCNN.summary()\n",
        "    n_steps = train_df_len // BATCH_SIZE \n",
        "    history = TextCNN.fit(x = train_dataset,validation_data=validation_dataset , callbacks=[es] , epochs = EPOCHS \n",
        "                          ,verbose = 1 , steps_per_epoch=n_steps)   \n",
        "    histories.append(history)\n",
        "\n",
        "    public_predictions.append(TextCNN.predict(public_test_dataset, verbose=1 )[0].flatten())\n",
        "    private_predictions.append(TextCNN.predict(private_test_dataset, verbose=1 )[0].flatten())\n",
        "    #save memmory \n",
        "    tf.tpu.experimental.initialize_tpu_system(tpu)\n",
        "\n",
        "  y_public_pred = np.average(public_predictions, axis =0 )\n",
        "  y_private_pred = np.average(private_predictions, axis= 0)\n",
        "  # save its graph \n",
        "  tf.keras.utils.plot_model(TextCNN, show_shapes= True ,show_layer_names=False, \n",
        "                  to_file='/content/drive/My Drive/Jigsaw Unintended Bias in Toxicity Classification/models/TextCNN/' + \n",
        "                  MODEL_NAME +'/TextCNN.png')\n",
        "  \n",
        "  evaluate(y_public_pred,y_private_pred, test_public_df, test_private_df, PATH , MODEL_NAME)\n",
        "  plot_history_for_accuracy_and_loss(histories, PATH)\n",
        "  \n",
        "  # delete to save memmory \n",
        "  del TextCNN\n",
        "  del y_public_pred\n",
        "  del y_private_pred\n",
        "  del histories \n",
        "  gc.collect()"
      ],
      "execution_count": null,
      "outputs": []
    },
    {
      "cell_type": "markdown",
      "metadata": {
        "id": "ynF9ySqqj08E",
        "colab_type": "text"
      },
      "source": [
        "## TextCNNBase"
      ]
    },
    {
      "cell_type": "code",
      "metadata": {
        "id": "HQGOILxIjz0t",
        "colab_type": "code",
        "colab": {
          "base_uri": "https://localhost:8080/",
          "height": 1000
        },
        "outputId": "7f753a31-f0af-40fd-a25c-7a4cdd842cf2"
      },
      "source": [
        "train()"
      ],
      "execution_count": null,
      "outputs": [
        {
          "output_type": "stream",
          "text": [
            "\n",
            "TextCNNBase\n",
            "Model: \"functional_1\"\n",
            "__________________________________________________________________________________________________\n",
            "Layer (type)                    Output Shape         Param #     Connected to                     \n",
            "==================================================================================================\n",
            "input_1 (InputLayer)            [(None, None)]       0                                            \n",
            "__________________________________________________________________________________________________\n",
            "embedding (Embedding)           (None, None, 600)    229870800   input_1[0][0]                    \n",
            "__________________________________________________________________________________________________\n",
            "conv1d (Conv1D)                 (None, None, 128)    153728      embedding[0][0]                  \n",
            "__________________________________________________________________________________________________\n",
            "conv1d_1 (Conv1D)               (None, None, 128)    230528      embedding[0][0]                  \n",
            "__________________________________________________________________________________________________\n",
            "conv1d_2 (Conv1D)               (None, None, 128)    307328      embedding[0][0]                  \n",
            "__________________________________________________________________________________________________\n",
            "conv1d_3 (Conv1D)               (None, None, 128)    384128      embedding[0][0]                  \n",
            "__________________________________________________________________________________________________\n",
            "conv1d_4 (Conv1D)               (None, None, 128)    460928      embedding[0][0]                  \n",
            "__________________________________________________________________________________________________\n",
            "global_max_pooling1d (GlobalMax (None, 128)          0           conv1d[0][0]                     \n",
            "__________________________________________________________________________________________________\n",
            "global_max_pooling1d_1 (GlobalM (None, 128)          0           conv1d_1[0][0]                   \n",
            "__________________________________________________________________________________________________\n",
            "global_max_pooling1d_2 (GlobalM (None, 128)          0           conv1d_2[0][0]                   \n",
            "__________________________________________________________________________________________________\n",
            "global_max_pooling1d_3 (GlobalM (None, 128)          0           conv1d_3[0][0]                   \n",
            "__________________________________________________________________________________________________\n",
            "global_max_pooling1d_4 (GlobalM (None, 128)          0           conv1d_4[0][0]                   \n",
            "__________________________________________________________________________________________________\n",
            "tf_op_layer_concat (TensorFlowO [(None, 640)]        0           global_max_pooling1d[0][0]       \n",
            "                                                                 global_max_pooling1d_1[0][0]     \n",
            "                                                                 global_max_pooling1d_2[0][0]     \n",
            "                                                                 global_max_pooling1d_3[0][0]     \n",
            "                                                                 global_max_pooling1d_4[0][0]     \n",
            "__________________________________________________________________________________________________\n",
            "dense (Dense)                   (None, 128)          82048       tf_op_layer_concat[0][0]         \n",
            "__________________________________________________________________________________________________\n",
            "dropout (Dropout)               (None, 128)          0           dense[0][0]                      \n",
            "__________________________________________________________________________________________________\n",
            "target (Dense)                  (None, 1)            129         dropout[0][0]                    \n",
            "__________________________________________________________________________________________________\n",
            "aux (Dense)                     (None, 6)            774         dropout[0][0]                    \n",
            "==================================================================================================\n",
            "Total params: 231,490,391\n",
            "Trainable params: 1,619,591\n",
            "Non-trainable params: 229,870,800\n",
            "__________________________________________________________________________________________________\n",
            "Epoch 1/10\n",
            "WARNING:tensorflow:From /usr/local/lib/python3.6/dist-packages/tensorflow/python/data/ops/multi_device_iterator_ops.py:601: get_next_as_optional (from tensorflow.python.data.ops.iterator_ops) is deprecated and will be removed in a future version.\n",
            "Instructions for updating:\n",
            "Use `tf.data.Iterator.get_next_as_optional()` instead.\n"
          ],
          "name": "stdout"
        },
        {
          "output_type": "stream",
          "text": [
            "WARNING:tensorflow:From /usr/local/lib/python3.6/dist-packages/tensorflow/python/data/ops/multi_device_iterator_ops.py:601: get_next_as_optional (from tensorflow.python.data.ops.iterator_ops) is deprecated and will be removed in a future version.\n",
            "Instructions for updating:\n",
            "Use `tf.data.Iterator.get_next_as_optional()` instead.\n"
          ],
          "name": "stderr"
        },
        {
          "output_type": "stream",
          "text": [
            "\r   1/1692 [..............................] - ETA: 13s - loss: 1.8199 - target_loss: 0.9969 - aux_loss: 0.8230 - target_accuracy: 0.0781 - aux_accuracy: 0.1211WARNING:tensorflow:Callbacks method `on_train_batch_end` is slow compared to the batch time (batch time: 0.0032s vs `on_train_batch_end` time: 0.0416s). Check your callbacks.\n"
          ],
          "name": "stdout"
        },
        {
          "output_type": "stream",
          "text": [
            "WARNING:tensorflow:Callbacks method `on_train_batch_end` is slow compared to the batch time (batch time: 0.0032s vs `on_train_batch_end` time: 0.0416s). Check your callbacks.\n"
          ],
          "name": "stderr"
        },
        {
          "output_type": "stream",
          "text": [
            "1691/1692 [============================>.] - ETA: 0s - loss: 0.4927 - target_loss: 0.3321 - aux_loss: 0.1605 - target_accuracy: 0.6990 - aux_accuracy: 0.7930WARNING:tensorflow:Callbacks method `on_test_batch_end` is slow compared to the batch time (batch time: 0.0018s vs `on_test_batch_end` time: 0.0291s). Check your callbacks.\n"
          ],
          "name": "stdout"
        },
        {
          "output_type": "stream",
          "text": [
            "WARNING:tensorflow:Callbacks method `on_test_batch_end` is slow compared to the batch time (batch time: 0.0018s vs `on_test_batch_end` time: 0.0291s). Check your callbacks.\n"
          ],
          "name": "stderr"
        },
        {
          "output_type": "stream",
          "text": [
            "1692/1692 [==============================] - 94s 56ms/step - loss: 0.4926 - target_loss: 0.3321 - aux_loss: 0.1605 - target_accuracy: 0.6990 - aux_accuracy: 0.7930 - val_loss: 0.4759 - val_target_loss: 0.3240 - val_aux_loss: 0.1520 - val_target_accuracy: 0.6999 - val_aux_accuracy: 0.9455\n",
            "Epoch 2/10\n",
            "1692/1692 [==============================] - 89s 53ms/step - loss: 0.4672 - target_loss: 0.3170 - aux_loss: 0.1502 - target_accuracy: 0.6995 - aux_accuracy: 0.8952 - val_loss: 0.4732 - val_target_loss: 0.3224 - val_aux_loss: 0.1508 - val_target_accuracy: 0.6996 - val_aux_accuracy: 0.9397\n",
            "Epoch 3/10\n",
            "1692/1692 [==============================] - 92s 54ms/step - loss: 0.4519 - target_loss: 0.3066 - aux_loss: 0.1452 - target_accuracy: 0.7010 - aux_accuracy: 0.9161 - val_loss: 0.4751 - val_target_loss: 0.3241 - val_aux_loss: 0.1510 - val_target_accuracy: 0.6990 - val_aux_accuracy: 0.9570\n",
            "Epoch 4/10\n",
            "1692/1692 [==============================] - 94s 56ms/step - loss: 0.4404 - target_loss: 0.2985 - aux_loss: 0.1418 - target_accuracy: 0.7006 - aux_accuracy: 0.9180 - val_loss: 0.4824 - val_target_loss: 0.3292 - val_aux_loss: 0.1532 - val_target_accuracy: 0.7001 - val_aux_accuracy: 0.9420\n",
            "Epoch 5/10\n",
            "1692/1692 [==============================] - 184s 109ms/step - loss: 0.4295 - target_loss: 0.2908 - aux_loss: 0.1387 - target_accuracy: 0.7008 - aux_accuracy: 0.9089 - val_loss: 0.4876 - val_target_loss: 0.3335 - val_aux_loss: 0.1541 - val_target_accuracy: 0.6975 - val_aux_accuracy: 0.9544\n",
            "  2/191 [..............................] - ETA: 4:42WARNING:tensorflow:Callbacks method `on_predict_batch_end` is slow compared to the batch time (batch time: 0.0021s vs `on_predict_batch_end` time: 0.0215s). Check your callbacks.\n"
          ],
          "name": "stdout"
        },
        {
          "output_type": "stream",
          "text": [
            "WARNING:tensorflow:Callbacks method `on_predict_batch_end` is slow compared to the batch time (batch time: 0.0021s vs `on_predict_batch_end` time: 0.0215s). Check your callbacks.\n"
          ],
          "name": "stderr"
        },
        {
          "output_type": "stream",
          "text": [
            "191/191 [==============================] - 8s 42ms/step\n",
            "  1/191 [..............................] - ETA: 0sWARNING:tensorflow:Callbacks method `on_predict_batch_end` is slow compared to the batch time (batch time: 0.0019s vs `on_predict_batch_end` time: 0.0170s). Check your callbacks.\n"
          ],
          "name": "stdout"
        },
        {
          "output_type": "stream",
          "text": [
            "WARNING:tensorflow:Callbacks method `on_predict_batch_end` is slow compared to the batch time (batch time: 0.0019s vs `on_predict_batch_end` time: 0.0170s). Check your callbacks.\n"
          ],
          "name": "stderr"
        },
        {
          "output_type": "stream",
          "text": [
            "191/191 [==============================] - 4s 20ms/step\n",
            "WARNING:tensorflow:TPU system grpc://10.91.225.50:8470 has already been initialized. Reinitializing the TPU can cause previously created variables on TPU to be lost.\n"
          ],
          "name": "stdout"
        },
        {
          "output_type": "stream",
          "text": [
            "WARNING:tensorflow:TPU system grpc://10.91.225.50:8470 has already been initialized. Reinitializing the TPU can cause previously created variables on TPU to be lost.\n"
          ],
          "name": "stderr"
        },
        {
          "output_type": "stream",
          "text": [
            "INFO:tensorflow:Initializing the TPU system: grpc://10.91.225.50:8470\n"
          ],
          "name": "stdout"
        },
        {
          "output_type": "stream",
          "text": [
            "INFO:tensorflow:Initializing the TPU system: grpc://10.91.225.50:8470\n"
          ],
          "name": "stderr"
        },
        {
          "output_type": "stream",
          "text": [
            "INFO:tensorflow:Clearing out eager caches\n"
          ],
          "name": "stdout"
        },
        {
          "output_type": "stream",
          "text": [
            "INFO:tensorflow:Clearing out eager caches\n"
          ],
          "name": "stderr"
        },
        {
          "output_type": "stream",
          "text": [
            "INFO:tensorflow:Finished initializing TPU system.\n"
          ],
          "name": "stdout"
        },
        {
          "output_type": "stream",
          "text": [
            "INFO:tensorflow:Finished initializing TPU system.\n"
          ],
          "name": "stderr"
        },
        {
          "output_type": "stream",
          "text": [
            "Model: \"functional_3\"\n",
            "__________________________________________________________________________________________________\n",
            "Layer (type)                    Output Shape         Param #     Connected to                     \n",
            "==================================================================================================\n",
            "input_2 (InputLayer)            [(None, None)]       0                                            \n",
            "__________________________________________________________________________________________________\n",
            "embedding_1 (Embedding)         (None, None, 600)    229870800   input_2[0][0]                    \n",
            "__________________________________________________________________________________________________\n",
            "conv1d_5 (Conv1D)               (None, None, 128)    153728      embedding_1[0][0]                \n",
            "__________________________________________________________________________________________________\n",
            "conv1d_6 (Conv1D)               (None, None, 128)    230528      embedding_1[0][0]                \n",
            "__________________________________________________________________________________________________\n",
            "conv1d_7 (Conv1D)               (None, None, 128)    307328      embedding_1[0][0]                \n",
            "__________________________________________________________________________________________________\n",
            "conv1d_8 (Conv1D)               (None, None, 128)    384128      embedding_1[0][0]                \n",
            "__________________________________________________________________________________________________\n",
            "conv1d_9 (Conv1D)               (None, None, 128)    460928      embedding_1[0][0]                \n",
            "__________________________________________________________________________________________________\n",
            "global_max_pooling1d_5 (GlobalM (None, 128)          0           conv1d_5[0][0]                   \n",
            "__________________________________________________________________________________________________\n",
            "global_max_pooling1d_6 (GlobalM (None, 128)          0           conv1d_6[0][0]                   \n",
            "__________________________________________________________________________________________________\n",
            "global_max_pooling1d_7 (GlobalM (None, 128)          0           conv1d_7[0][0]                   \n",
            "__________________________________________________________________________________________________\n",
            "global_max_pooling1d_8 (GlobalM (None, 128)          0           conv1d_8[0][0]                   \n",
            "__________________________________________________________________________________________________\n",
            "global_max_pooling1d_9 (GlobalM (None, 128)          0           conv1d_9[0][0]                   \n",
            "__________________________________________________________________________________________________\n",
            "tf_op_layer_concat_1 (TensorFlo [(None, 640)]        0           global_max_pooling1d_5[0][0]     \n",
            "                                                                 global_max_pooling1d_6[0][0]     \n",
            "                                                                 global_max_pooling1d_7[0][0]     \n",
            "                                                                 global_max_pooling1d_8[0][0]     \n",
            "                                                                 global_max_pooling1d_9[0][0]     \n",
            "__________________________________________________________________________________________________\n",
            "dense_1 (Dense)                 (None, 128)          82048       tf_op_layer_concat_1[0][0]       \n",
            "__________________________________________________________________________________________________\n",
            "dropout_1 (Dropout)             (None, 128)          0           dense_1[0][0]                    \n",
            "__________________________________________________________________________________________________\n",
            "target (Dense)                  (None, 1)            129         dropout_1[0][0]                  \n",
            "__________________________________________________________________________________________________\n",
            "aux (Dense)                     (None, 6)            774         dropout_1[0][0]                  \n",
            "==================================================================================================\n",
            "Total params: 231,490,391\n",
            "Trainable params: 1,619,591\n",
            "Non-trainable params: 229,870,800\n",
            "__________________________________________________________________________________________________\n",
            "Epoch 1/10\n",
            "   1/1692 [..............................] - ETA: 16s - loss: 1.7220 - target_loss: 0.5723 - aux_loss: 1.1497 - target_accuracy: 0.6113 - aux_accuracy: 0.0078WARNING:tensorflow:Callbacks method `on_train_batch_end` is slow compared to the batch time (batch time: 0.0027s vs `on_train_batch_end` time: 0.0439s). Check your callbacks.\n"
          ],
          "name": "stdout"
        },
        {
          "output_type": "stream",
          "text": [
            "WARNING:tensorflow:Callbacks method `on_train_batch_end` is slow compared to the batch time (batch time: 0.0027s vs `on_train_batch_end` time: 0.0439s). Check your callbacks.\n"
          ],
          "name": "stderr"
        },
        {
          "output_type": "stream",
          "text": [
            "1692/1692 [==============================] - ETA: 0s - loss: 0.4903 - target_loss: 0.3312 - aux_loss: 0.1591 - target_accuracy: 0.6989 - aux_accuracy: 0.7746WARNING:tensorflow:Callbacks method `on_test_batch_end` is slow compared to the batch time (batch time: 0.0022s vs `on_test_batch_end` time: 0.0273s). Check your callbacks.\n"
          ],
          "name": "stdout"
        },
        {
          "output_type": "stream",
          "text": [
            "WARNING:tensorflow:Callbacks method `on_test_batch_end` is slow compared to the batch time (batch time: 0.0022s vs `on_test_batch_end` time: 0.0273s). Check your callbacks.\n"
          ],
          "name": "stderr"
        },
        {
          "output_type": "stream",
          "text": [
            "1692/1692 [==============================] - 94s 56ms/step - loss: 0.4903 - target_loss: 0.3312 - aux_loss: 0.1591 - target_accuracy: 0.6989 - aux_accuracy: 0.7746 - val_loss: 0.4756 - val_target_loss: 0.3239 - val_aux_loss: 0.1517 - val_target_accuracy: 0.6995 - val_aux_accuracy: 0.9574\n",
            "Epoch 2/10\n",
            "1692/1692 [==============================] - 90s 53ms/step - loss: 0.4649 - target_loss: 0.3159 - aux_loss: 0.1490 - target_accuracy: 0.6999 - aux_accuracy: 0.9039 - val_loss: 0.4741 - val_target_loss: 0.3230 - val_aux_loss: 0.1511 - val_target_accuracy: 0.6999 - val_aux_accuracy: 0.9576\n",
            "Epoch 3/10\n",
            "1692/1692 [==============================] - 91s 54ms/step - loss: 0.4520 - target_loss: 0.3070 - aux_loss: 0.1451 - target_accuracy: 0.7003 - aux_accuracy: 0.9148 - val_loss: 0.4822 - val_target_loss: 0.3290 - val_aux_loss: 0.1533 - val_target_accuracy: 0.6999 - val_aux_accuracy: 0.9400\n",
            "Epoch 4/10\n",
            "1692/1692 [==============================] - 95s 56ms/step - loss: 0.4376 - target_loss: 0.2968 - aux_loss: 0.1408 - target_accuracy: 0.7012 - aux_accuracy: 0.9129 - val_loss: 0.4811 - val_target_loss: 0.3286 - val_aux_loss: 0.1525 - val_target_accuracy: 0.6997 - val_aux_accuracy: 0.9562\n",
            "Epoch 5/10\n",
            "1692/1692 [==============================] - 179s 106ms/step - loss: 0.4267 - target_loss: 0.2890 - aux_loss: 0.1376 - target_accuracy: 0.7013 - aux_accuracy: 0.9093 - val_loss: 0.4853 - val_target_loss: 0.3318 - val_aux_loss: 0.1535 - val_target_accuracy: 0.6998 - val_aux_accuracy: 0.9466\n",
            "  2/191 [..............................] - ETA: 4:19WARNING:tensorflow:Callbacks method `on_predict_batch_end` is slow compared to the batch time (batch time: 0.0018s vs `on_predict_batch_end` time: 0.0194s). Check your callbacks.\n"
          ],
          "name": "stdout"
        },
        {
          "output_type": "stream",
          "text": [
            "WARNING:tensorflow:Callbacks method `on_predict_batch_end` is slow compared to the batch time (batch time: 0.0018s vs `on_predict_batch_end` time: 0.0194s). Check your callbacks.\n"
          ],
          "name": "stderr"
        },
        {
          "output_type": "stream",
          "text": [
            "191/191 [==============================] - 8s 40ms/step\n",
            "  1/191 [..............................] - ETA: 0sWARNING:tensorflow:Callbacks method `on_predict_batch_end` is slow compared to the batch time (batch time: 0.0017s vs `on_predict_batch_end` time: 0.0196s). Check your callbacks.\n"
          ],
          "name": "stdout"
        },
        {
          "output_type": "stream",
          "text": [
            "WARNING:tensorflow:Callbacks method `on_predict_batch_end` is slow compared to the batch time (batch time: 0.0017s vs `on_predict_batch_end` time: 0.0196s). Check your callbacks.\n"
          ],
          "name": "stderr"
        },
        {
          "output_type": "stream",
          "text": [
            "191/191 [==============================] - 4s 20ms/step\n",
            "WARNING:tensorflow:TPU system grpc://10.91.225.50:8470 has already been initialized. Reinitializing the TPU can cause previously created variables on TPU to be lost.\n"
          ],
          "name": "stdout"
        },
        {
          "output_type": "stream",
          "text": [
            "WARNING:tensorflow:TPU system grpc://10.91.225.50:8470 has already been initialized. Reinitializing the TPU can cause previously created variables on TPU to be lost.\n"
          ],
          "name": "stderr"
        },
        {
          "output_type": "stream",
          "text": [
            "INFO:tensorflow:Initializing the TPU system: grpc://10.91.225.50:8470\n"
          ],
          "name": "stdout"
        },
        {
          "output_type": "stream",
          "text": [
            "INFO:tensorflow:Initializing the TPU system: grpc://10.91.225.50:8470\n"
          ],
          "name": "stderr"
        },
        {
          "output_type": "stream",
          "text": [
            "INFO:tensorflow:Clearing out eager caches\n"
          ],
          "name": "stdout"
        },
        {
          "output_type": "stream",
          "text": [
            "INFO:tensorflow:Clearing out eager caches\n"
          ],
          "name": "stderr"
        },
        {
          "output_type": "stream",
          "text": [
            "INFO:tensorflow:Finished initializing TPU system.\n"
          ],
          "name": "stdout"
        },
        {
          "output_type": "stream",
          "text": [
            "INFO:tensorflow:Finished initializing TPU system.\n"
          ],
          "name": "stderr"
        },
        {
          "output_type": "stream",
          "text": [
            "Accuracy on public test: 0.949918\n",
            "Accuracy on private test: 0.949373\n",
            "Public AUC score : 0.914211\n",
            "Private AUC score : 0.915806\n"
          ],
          "name": "stdout"
        },
        {
          "output_type": "display_data",
          "data": {
            "image/png": "[encoded data removed]",
            "text/plain": [
              "<Figure size 1080x360 with 4 Axes>"
            ]
          },
          "metadata": {
            "tags": [],
            "needs_background": "light"
          }
        }
      ]
    },
    {
      "cell_type": "code",
      "metadata": {
        "id": "NALedLlvDxtB",
        "colab_type": "code",
        "colab": {}
      },
      "source": [
        ""
      ],
      "execution_count": null,
      "outputs": []
    }
  ]
}