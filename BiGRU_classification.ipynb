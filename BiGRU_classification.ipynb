{
  "nbformat": 4,
  "nbformat_minor": 0,
  "metadata": {
    "kernelspec": {
      "name": "python3",
      "display_name": "Python 3"
    },
    "language_info": {
      "codemirror_mode": {
        "name": "ipython",
        "version": 3
      },
      "file_extension": ".py",
      "mimetype": "text/x-python",
      "name": "python",
      "nbconvert_exporter": "python",
      "pygments_lexer": "ipython3",
      "version": "3.7.4"
    },
    "colab": {
      "name": "BiGRU_classification.ipynb",
      "provenance": [],
      "collapsed_sections": [
        "EhwR8vW897xK"
      ],
      "toc_visible": true,
      "machine_shape": "hm",
      "include_colab_link": true
    },
    "accelerator": "TPU"
  },
  "cells": [
    {
      "cell_type": "markdown",
      "metadata": {
        "id": "view-in-github",
        "colab_type": "text"
      },
      "source": [
        "<a href=\"https://colab.research.google.com/github/CoGian/Detection-of-toxic-comments-and-minimization-of-unintended-model-bias-using-neural-networks/blob/master/BiGRU_classification.ipynb\" target=\"_parent\"><img src=\"https://colab.research.google.com/assets/colab-badge.svg\" alt=\"Open In Colab\"/></a>"
      ]
    },
    {
      "cell_type": "code",
      "metadata": {
        "id": "6uOGqdSdRr12",
        "colab_type": "code",
        "colab": {}
      },
      "source": [
        "from google.colab import drive\n",
        "drive.mount('/content/drive' )"
      ],
      "execution_count": null,
      "outputs": []
    },
    {
      "cell_type": "code",
      "metadata": {
        "id": "BK5HLlUcjxXJ",
        "colab_type": "code",
        "colab": {}
      },
      "source": [
        "import numpy as np \n",
        "import pandas as pd\n",
        "import tensorflow as tf \n",
        "import random\n",
        "import pickle \n",
        "import gc\n",
        "import os\n",
        "from sklearn import metrics\n",
        "from sklearn.model_selection import train_test_split\n",
        "import sys\n",
        "import matplotlib.pyplot as plt\n",
        "from matplotlib import gridspec\n",
        "sys.path.append('/content/drive/My Drive/Jigsaw Unintended Bias in Toxicity Classification/tools')\n",
        "sys.path.append('/content/drive/My Drive/Jigsaw Unintended Bias in Toxicity Classification')\n",
        "from tools_benchmark import  compute_bias_metrics_for_model, calculate_overall_auc,get_final_metric\n",
        "from tools_load_data import get_datasets\n",
        "from tools_evaluate_model import evaluate, plot_history_for_accuracy_and_loss"
      ],
      "execution_count": null,
      "outputs": []
    },
    {
      "cell_type": "markdown",
      "metadata": {
        "id": "hfAJudMAXzkm",
        "colab_type": "text"
      },
      "source": [
        "# TPU Configs"
      ]
    },
    {
      "cell_type": "code",
      "metadata": {
        "id": "Z45u1edDic_l",
        "colab_type": "code",
        "colab": {}
      },
      "source": [
        "# Detect hardware, return appropriate distribution strategy\n",
        "try:\n",
        "    # TPU detection. No parameters necessary if TPU_NAME environment variable is\n",
        "    # set: this is always the case on Kaggle.\n",
        "    tpu = tf.distribute.cluster_resolver.TPUClusterResolver()\n",
        "    print('Running on TPU ', tpu.master())\n",
        "except ValueError:\n",
        "    tpu = None\n",
        "\n",
        "if tpu:\n",
        "    tf.config.experimental_connect_to_cluster(tpu)\n",
        "    tf.tpu.experimental.initialize_tpu_system(tpu)\n",
        "    strategy = tf.distribute.experimental.TPUStrategy(tpu)\n",
        "else:\n",
        "    # Default distribution strategy in Tensorflow. Works on CPU and single GPU.\n",
        "    strategy = tf.distribute.get_strategy()\n",
        "\n",
        "print(\"REPLICAS: \", strategy.num_replicas_in_sync)"
      ],
      "execution_count": null,
      "outputs": []
    },
    {
      "cell_type": "code",
      "metadata": {
        "id": "eBdk15rQpIl7",
        "colab_type": "code",
        "colab": {}
      },
      "source": [
        "MODEL_NO = 2 \n",
        "BATCH_SIZE = 512 \n",
        "EPOCHS = 10"
      ],
      "execution_count": null,
      "outputs": []
    },
    {
      "cell_type": "markdown",
      "metadata": {
        "id": "ovW7ESAsleUI",
        "colab_type": "text"
      },
      "source": [
        "# Load Datasets"
      ]
    },
    {
      "cell_type": "code",
      "metadata": {
        "id": "6ccKM6I-L4XZ",
        "colab_type": "code",
        "colab": {}
      },
      "source": [
        " IDENTITY_COLUMNS  = [\n",
        "    'male', 'female', 'homosexual_gay_or_lesbian', 'christian', 'jewish',\n",
        "    'muslim', 'black', 'white', 'psychiatric_or_mental_illness'\n",
        "  ] "
      ],
      "execution_count": null,
      "outputs": []
    },
    {
      "cell_type": "code",
      "metadata": {
        "id": "xGHwyD6Qp_0M",
        "colab_type": "code",
        "colab": {}
      },
      "source": [
        "train_df = pd.read_csv(\"/content/drive/My Drive/Jigsaw Unintended Bias in Toxicity Classification/data/train_cleared.csv\")\n",
        "train_df = train_df[:10000]\n",
        "test_public_df = pd.read_csv(\"/content/drive/My Drive/Jigsaw Unintended Bias in Toxicity Classification/data/test_public_cleared.csv\")\n",
        "test_public_df = test_public_df.loc[:, ['toxicity','comment_text']  + IDENTITY_COLUMNS ].dropna()[:1000]\n",
        "test_private_df = pd.read_csv(\"/content/drive/My Drive/Jigsaw Unintended Bias in Toxicity Classification/data/test_private_cleared.csv\")\n",
        "test_private_df = test_private_df.loc[:, ['toxicity', 'comment_text'] + IDENTITY_COLUMNS ].dropna()[:1000]"
      ],
      "execution_count": null,
      "outputs": []
    },
    {
      "cell_type": "code",
      "metadata": {
        "id": "Oi67SWP_qmFB",
        "colab_type": "code",
        "colab": {}
      },
      "source": [
        "# split \n",
        "train_df , val_df = train_test_split(train_df,test_size = 0.2 , random_state = 13 , shuffle = True)"
      ],
      "execution_count": null,
      "outputs": []
    },
    {
      "cell_type": "code",
      "metadata": {
        "id": "dzfTemGHiPvG",
        "colab_type": "code",
        "colab": {
          "base_uri": "https://localhost:8080/",
          "height": 85
        },
        "outputId": "14869d87-5d39-4dfc-d0f2-8f178e2ca6ec"
      },
      "source": [
        "train_dataset,validation_dataset, public_test_dataset, private_test_dataset , embedding_matrix = get_datasets(train_df, val_df, test_public_df, test_private_df)"
      ],
      "execution_count": null,
      "outputs": [
        {
          "output_type": "stream",
          "text": [
            "n unknown words (glove):  217933\n",
            "n known words (glove):  491202\n",
            "n unknown words (crawl):  219420\n",
            "n known words (crawl):  491202\n"
          ],
          "name": "stdout"
        }
      ]
    },
    {
      "cell_type": "markdown",
      "metadata": {
        "id": "28kqjvSJ7qgD",
        "colab_type": "text"
      },
      "source": [
        "# Training and evaluation of models "
      ]
    },
    {
      "cell_type": "code",
      "metadata": {
        "id": "bMMrrJgSQ1uC",
        "colab_type": "code",
        "colab": {}
      },
      "source": [
        "class CustomStopper(tf.keras.callbacks.EarlyStopping):\n",
        "    def __init__(self, monitor='val_loss',\n",
        "             min_delta=0, patience=0, verbose=0, mode='auto', start_epoch = 2 , restore_best_weights = True): # add argument for starting epoch\n",
        "        super(CustomStopper, self).__init__(monitor=monitor,patience=patience,min_delta=min_delta,mode=mode, restore_best_weights = restore_best_weights)\n",
        "        self.start_epoch = start_epoch\n",
        "\n",
        "    def on_epoch_end(self, epoch, logs=None):\n",
        "        if epoch > self.start_epoch:\n",
        "            super().on_epoch_end(epoch, logs)"
      ],
      "execution_count": null,
      "outputs": []
    },
    {
      "cell_type": "code",
      "metadata": {
        "id": "vKelSSQHRTnX",
        "colab_type": "code",
        "colab": {}
      },
      "source": [
        "es = CustomStopper(start_epoch=2)"
      ],
      "execution_count": null,
      "outputs": []
    },
    {
      "cell_type": "markdown",
      "metadata": {
        "id": "cAcwR0_kJKfs",
        "colab_type": "text"
      },
      "source": [
        "## Build model"
      ]
    },
    {
      "cell_type": "code",
      "metadata": {
        "id": "2nfW6abEclzh",
        "colab_type": "code",
        "colab": {}
      },
      "source": [
        "def create_BiGRU(embedding_matrix, num_of_hidden_layers , gru_units, dense_units):\n",
        "  words = tf.keras.Input(shape=(None,))\n",
        "  x = tf.keras.layers.Embedding(input_dim=embedding_matrix.shape[0],\n",
        "                                 output_dim = embedding_matrix.shape[1],\n",
        "                                 weights=[embedding_matrix], trainable=False)(words)\n",
        "  x = tf.keras.layers.SpatialDropout1D(0.2)(x)\n",
        "  if num_of_hidden_layers == 2 : \n",
        "    x = tf.keras.layers.Bidirectional(tf.keras.layers.GRU(gru_units,return_sequences=True))(x)\n",
        "    x = tf.keras.layers.Bidirectional(tf.keras.layers.GRU(gru_units,return_sequences=True))(x)\n",
        "  elif num_of_hidden_layers == 3 : \n",
        "    x = tf.keras.layers.Bidirectional(tf.keras.layers.GRU(gru_units,return_sequences=True))(x)\n",
        "    x = tf.keras.layers.Bidirectional(tf.keras.layers.GRU(gru_units,return_sequences=True))(x)\n",
        "    x = tf.keras.layers.Bidirectional(tf.keras.layers.GRU(gru_units,return_sequences=True))(x)\n",
        "  else:\n",
        "    print(\"Wrong number of hidden layers\")\n",
        "    return\n",
        "  \n",
        "  \n",
        "  \n",
        "  avg_pool = tf.keras.layers.GlobalAveragePooling1D()(x)\n",
        "  max_pool = tf.keras.layers.GlobalMaxPooling1D()(x)\n",
        "\n",
        "  GRU_out = tf.keras.layers.concatenate([max_pool, avg_pool])\n",
        "\n",
        "  # skip connections \n",
        "  x = tf.keras.layers.add([GRU_out,tf.keras.layers.Dense(dense_units,activation='relu')(GRU_out)]) \n",
        "  x = tf.keras.layers.add([x,tf.keras.layers.Dense(dense_units,activation='relu')(x)]) \n",
        "  \n",
        "  result = tf.keras.layers.Dense(1, activation='sigmoid', name = 'target' )(x)\n",
        "  aux_result =  tf.keras.layers.Dense(6, activation='sigmoid' , name = 'aux')(x)\n",
        "    \n",
        "  model = tf.keras.Model(inputs=words, outputs=[result, aux_result])\n",
        "  model.compile(loss=tf.keras.losses.BinaryCrossentropy(),\n",
        "              optimizer=tf.keras.optimizers.Adam(),\n",
        "              metrics=['accuracy'])\n",
        "\n",
        "  return model"
      ],
      "execution_count": null,
      "outputs": []
    },
    {
      "cell_type": "markdown",
      "metadata": {
        "id": "3C8K7aw7I4Of",
        "colab_type": "text"
      },
      "source": [
        "## Train and tune the model"
      ]
    },
    {
      "cell_type": "code",
      "metadata": {
        "id": "lIJKU_0dJGNt",
        "colab_type": "code",
        "colab": {}
      },
      "source": [
        "def train(number_of_hidden_GRU_layers, gru_units, dense_units):\n",
        "  histories = [] \n",
        "  public_predictions = [] \n",
        "  private_predictions = [] \n",
        "  MODEL_NAME = \"BiGRU\" + str(number_of_hidden_GRU_layers)+\"-\"+str(gru_units)\n",
        "  print(\"\\nBiGRU\" + str(number_of_hidden_GRU_layers)+\"-\"+str(gru_units))\n",
        "  PATH = 'BiGRU/' + MODEL_NAME\n",
        "      \n",
        "  for i in range(MODEL_NO):\n",
        "    \n",
        "    with strategy.scope():\n",
        "      # create model \n",
        "      BiGRU = create_BiGRU(embedding_matrix,number_of_hidden_GRU_layers, gru_units, dense_units)\n",
        "    \n",
        "    BiGRU.summary()\n",
        "    n_steps = len(train_df) // BATCH_SIZE \n",
        "    history = BiGRU.fit(x = train_dataset,validation_data=validation_dataset , callbacks=[es] , epochs = EPOCHS \n",
        "                          ,verbose = 1 , steps_per_epoch=n_steps)   \n",
        "    histories.append(history)\n",
        "\n",
        "    public_predictions.append(BiGRU.predict(public_test_dataset, verbose=1 )[0].flatten())\n",
        "    private_predictions.append(BiGRU.predict(private_test_dataset, verbose=1 )[0].flatten())\n",
        "    #save memmory \n",
        "    tf.tpu.experimental.initialize_tpu_system(tpu)\n",
        "\n",
        "  y_public_pred = np.average(public_predictions, axis =0 )\n",
        "  y_private_pred = np.average(private_predictions, axis= 0)\n",
        "  # save its graph \n",
        "  tf.keras.utils.plot_model(BiGRU, show_shapes= True ,show_layer_names=False, \n",
        "                  to_file='/content/drive/My Drive/Jigsaw Unintended Bias in Toxicity Classification/models/BiGRU/' + \n",
        "                  MODEL_NAME +'/BiGRU.png')\n",
        "  \n",
        "  evaluate(y_public_pred,y_private_pred, test_public_df, test_private_df, PATH , MODEL_NAME)\n",
        "  plot_history_for_accuracy_and_loss(histories, PATH)\n",
        "  \n",
        "  # delete to save memmory \n",
        "  del BiGRU\n",
        "  del y_public_pred\n",
        "  del y_private_pred\n",
        "  del histories \n",
        "  gc.collect()"
      ],
      "execution_count": null,
      "outputs": []
    },
    {
      "cell_type": "markdown",
      "metadata": {
        "id": "pxdmyrFfHxcE",
        "colab_type": "text"
      },
      "source": [
        "### 2-LAYERS"
      ]
    },
    {
      "cell_type": "markdown",
      "metadata": {
        "id": "fWl2V-u1kive",
        "colab_type": "text"
      },
      "source": [
        "#### BiGRU2-64"
      ]
    },
    {
      "cell_type": "code",
      "metadata": {
        "id": "tRXfq32lGwhi",
        "colab_type": "code",
        "colab": {
          "base_uri": "https://localhost:8080/",
          "height": 51
        },
        "outputId": "bffea750-8586-4898-a2db-0a29cd1d053a"
      },
      "source": [
        "number_of_hidden_GRU_layers = 2 \n",
        "gru_units = 64\n",
        "dense_units = 4 * gru_units # * 4 because of concanation and bidirecrionality  \n",
        "train(number_of_hidden_GRU_layers, gru_units, dense_units)"
      ],
      "execution_count": null,
      "outputs": [
        {
          "output_type": "stream",
          "text": [
            "\n",
            "BiGRU2-64\n"
          ],
          "name": "stdout"
        }
      ]
    },
    {
      "cell_type": "markdown",
      "metadata": {
        "id": "Z4s8HlcwGh-e",
        "colab_type": "text"
      },
      "source": [
        "#### BiGRU2-128"
      ]
    },
    {
      "cell_type": "code",
      "metadata": {
        "id": "VO8R_6VeGn_E",
        "colab_type": "code",
        "colab": {
          "base_uri": "https://localhost:8080/",
          "height": 1000
        },
        "outputId": "37fa1b7a-a39f-4e4a-f074-53de7bcbcfef"
      },
      "source": [
        "number_of_hidden_GRU_layers = 2 \n",
        "gru_units = 128\n",
        "dense_units = 4 * gru_units # * 4 because of concanation and bidirecrionality  \n",
        "train(number_of_hidden_GRU_layers, gru_units, dense_units)"
      ],
      "execution_count": null,
      "outputs": [
        {
          "output_type": "stream",
          "text": [
            "\n",
            "BiGRU2-128\n",
            "Epoch 1/10\n",
            "   2/2820 [..............................] - ETA: 1:54 - loss: 1.2033 - target_loss: 0.5817 - aux_loss: 0.6216 - target_accuracy: 0.6689 - aux_accuracy: 0.0020   WARNING:tensorflow:Callbacks method `on_train_batch_end` is slow compared to the batch time (batch time: 0.0021s vs `on_train_batch_end` time: 0.0725s). Check your callbacks.\n"
          ],
          "name": "stdout"
        },
        {
          "output_type": "stream",
          "text": [
            "WARNING:tensorflow:Callbacks method `on_train_batch_end` is slow compared to the batch time (batch time: 0.0021s vs `on_train_batch_end` time: 0.0725s). Check your callbacks.\n"
          ],
          "name": "stderr"
        },
        {
          "output_type": "stream",
          "text": [
            "2820/2820 [==============================] - ETA: 0s - loss: 0.4750 - target_loss: 0.3239 - aux_loss: 0.1511 - target_accuracy: 0.6995 - aux_accuracy: 0.9005WARNING:tensorflow:Callbacks method `on_test_batch_end` is slow compared to the batch time (batch time: 0.0017s vs `on_test_batch_end` time: 0.0357s). Check your callbacks.\n"
          ],
          "name": "stdout"
        },
        {
          "output_type": "stream",
          "text": [
            "WARNING:tensorflow:Callbacks method `on_test_batch_end` is slow compared to the batch time (batch time: 0.0017s vs `on_test_batch_end` time: 0.0357s). Check your callbacks.\n"
          ],
          "name": "stderr"
        },
        {
          "output_type": "stream",
          "text": [
            "2820/2820 [==============================] - 234s 83ms/step - loss: 0.4750 - target_loss: 0.3239 - aux_loss: 0.1511 - target_accuracy: 0.6995 - aux_accuracy: 0.9005 - val_loss: 0.4701 - val_target_loss: 0.3211 - val_aux_loss: 0.1489 - val_target_accuracy: 0.6976 - val_aux_accuracy: 0.9043\n",
            "Epoch 2/10\n",
            "2820/2820 [==============================] - 233s 83ms/step - loss: 0.4603 - target_loss: 0.3144 - aux_loss: 0.1459 - target_accuracy: 0.6998 - aux_accuracy: 0.9139 - val_loss: 0.4614 - val_target_loss: 0.3155 - val_aux_loss: 0.1459 - val_target_accuracy: 0.7009 - val_aux_accuracy: 0.9522\n",
            "Epoch 3/10\n",
            "2820/2820 [==============================] - 234s 83ms/step - loss: 0.4542 - target_loss: 0.3102 - aux_loss: 0.1439 - target_accuracy: 0.6999 - aux_accuracy: 0.9226 - val_loss: 0.4591 - val_target_loss: 0.3139 - val_aux_loss: 0.1451 - val_target_accuracy: 0.6983 - val_aux_accuracy: 0.9414\n",
            "Epoch 4/10\n",
            "2820/2820 [==============================] - 238s 84ms/step - loss: 0.4516 - target_loss: 0.3083 - aux_loss: 0.1432 - target_accuracy: 0.7004 - aux_accuracy: 0.9310 - val_loss: 0.4589 - val_target_loss: 0.3137 - val_aux_loss: 0.1452 - val_target_accuracy: 0.6991 - val_aux_accuracy: 0.8787\n",
            "Epoch 5/10\n",
            "2820/2820 [==============================] - 236s 84ms/step - loss: 0.4469 - target_loss: 0.3050 - aux_loss: 0.1419 - target_accuracy: 0.7007 - aux_accuracy: 0.9331 - val_loss: 0.4588 - val_target_loss: 0.3136 - val_aux_loss: 0.1452 - val_target_accuracy: 0.6998 - val_aux_accuracy: 0.9144\n",
            "Epoch 6/10\n",
            "2820/2820 [==============================] - 336s 119ms/step - loss: 0.4438 - target_loss: 0.3028 - aux_loss: 0.1410 - target_accuracy: 0.7003 - aux_accuracy: 0.9357 - val_loss: 0.4604 - val_target_loss: 0.3148 - val_aux_loss: 0.1456 - val_target_accuracy: 0.6999 - val_aux_accuracy: 0.9009\n",
            "  2/191 [..............................] - ETA: 1:08WARNING:tensorflow:Callbacks method `on_predict_batch_end` is slow compared to the batch time (batch time: 0.0014s vs `on_predict_batch_end` time: 0.0299s). Check your callbacks.\n"
          ],
          "name": "stdout"
        },
        {
          "output_type": "stream",
          "text": [
            "WARNING:tensorflow:Callbacks method `on_predict_batch_end` is slow compared to the batch time (batch time: 0.0014s vs `on_predict_batch_end` time: 0.0299s). Check your callbacks.\n"
          ],
          "name": "stderr"
        },
        {
          "output_type": "stream",
          "text": [
            "191/191 [==============================] - 7s 34ms/step\n",
            "  1/191 [..............................] - ETA: 0sWARNING:tensorflow:Callbacks method `on_predict_batch_end` is slow compared to the batch time (batch time: 0.0016s vs `on_predict_batch_end` time: 0.0271s). Check your callbacks.\n"
          ],
          "name": "stdout"
        },
        {
          "output_type": "stream",
          "text": [
            "WARNING:tensorflow:Callbacks method `on_predict_batch_end` is slow compared to the batch time (batch time: 0.0016s vs `on_predict_batch_end` time: 0.0271s). Check your callbacks.\n"
          ],
          "name": "stderr"
        },
        {
          "output_type": "stream",
          "text": [
            "191/191 [==============================] - 5s 28ms/step\n",
            "WARNING:tensorflow:TPU system grpc://10.97.235.138:8470 has already been initialized. Reinitializing the TPU can cause previously created variables on TPU to be lost.\n"
          ],
          "name": "stdout"
        },
        {
          "output_type": "stream",
          "text": [
            "WARNING:tensorflow:TPU system grpc://10.97.235.138:8470 has already been initialized. Reinitializing the TPU can cause previously created variables on TPU to be lost.\n"
          ],
          "name": "stderr"
        },
        {
          "output_type": "stream",
          "text": [
            "INFO:tensorflow:Initializing the TPU system: grpc://10.97.235.138:8470\n"
          ],
          "name": "stdout"
        },
        {
          "output_type": "stream",
          "text": [
            "INFO:tensorflow:Initializing the TPU system: grpc://10.97.235.138:8470\n"
          ],
          "name": "stderr"
        },
        {
          "output_type": "stream",
          "text": [
            "INFO:tensorflow:Clearing out eager caches\n"
          ],
          "name": "stdout"
        },
        {
          "output_type": "stream",
          "text": [
            "INFO:tensorflow:Clearing out eager caches\n"
          ],
          "name": "stderr"
        },
        {
          "output_type": "stream",
          "text": [
            "INFO:tensorflow:Finished initializing TPU system.\n"
          ],
          "name": "stdout"
        },
        {
          "output_type": "stream",
          "text": [
            "INFO:tensorflow:Finished initializing TPU system.\n"
          ],
          "name": "stderr"
        },
        {
          "output_type": "stream",
          "text": [
            "Epoch 1/10\n",
            "   2/2820 [..............................] - ETA: 1:54 - loss: 1.1839 - target_loss: 0.5133 - aux_loss: 0.6706 - target_accuracy: 0.6953 - aux_accuracy: 0.0088WARNING:tensorflow:Callbacks method `on_train_batch_end` is slow compared to the batch time (batch time: 0.0022s vs `on_train_batch_end` time: 0.0711s). Check your callbacks.\n"
          ],
          "name": "stdout"
        },
        {
          "output_type": "stream",
          "text": [
            "WARNING:tensorflow:Callbacks method `on_train_batch_end` is slow compared to the batch time (batch time: 0.0022s vs `on_train_batch_end` time: 0.0711s). Check your callbacks.\n"
          ],
          "name": "stderr"
        },
        {
          "output_type": "stream",
          "text": [
            "2820/2820 [==============================] - ETA: 0s - loss: 0.4767 - target_loss: 0.3250 - aux_loss: 0.1517 - target_accuracy: 0.6991 - aux_accuracy: 0.9001WARNING:tensorflow:Callbacks method `on_test_batch_end` is slow compared to the batch time (batch time: 0.0017s vs `on_test_batch_end` time: 0.0393s). Check your callbacks.\n"
          ],
          "name": "stdout"
        },
        {
          "output_type": "stream",
          "text": [
            "WARNING:tensorflow:Callbacks method `on_test_batch_end` is slow compared to the batch time (batch time: 0.0017s vs `on_test_batch_end` time: 0.0393s). Check your callbacks.\n"
          ],
          "name": "stderr"
        },
        {
          "output_type": "stream",
          "text": [
            "2820/2820 [==============================] - 236s 84ms/step - loss: 0.4767 - target_loss: 0.3250 - aux_loss: 0.1517 - target_accuracy: 0.6991 - aux_accuracy: 0.9001 - val_loss: 0.4616 - val_target_loss: 0.3152 - val_aux_loss: 0.1463 - val_target_accuracy: 0.7001 - val_aux_accuracy: 0.9100\n",
            "Epoch 2/10\n",
            "2820/2820 [==============================] - 233s 83ms/step - loss: 0.4592 - target_loss: 0.3136 - aux_loss: 0.1456 - target_accuracy: 0.6998 - aux_accuracy: 0.9123 - val_loss: 0.4604 - val_target_loss: 0.3145 - val_aux_loss: 0.1459 - val_target_accuracy: 0.7007 - val_aux_accuracy: 0.9294\n",
            "Epoch 3/10\n",
            "2820/2820 [==============================] - 232s 82ms/step - loss: 0.4542 - target_loss: 0.3102 - aux_loss: 0.1440 - target_accuracy: 0.7003 - aux_accuracy: 0.9244 - val_loss: 0.4598 - val_target_loss: 0.3142 - val_aux_loss: 0.1456 - val_target_accuracy: 0.7001 - val_aux_accuracy: 0.9082\n",
            "Epoch 4/10\n",
            "2820/2820 [==============================] - 237s 84ms/step - loss: 0.4515 - target_loss: 0.3083 - aux_loss: 0.1433 - target_accuracy: 0.7003 - aux_accuracy: 0.9290 - val_loss: 0.4614 - val_target_loss: 0.3155 - val_aux_loss: 0.1459 - val_target_accuracy: 0.6975 - val_aux_accuracy: 0.9497\n",
            "Epoch 5/10\n",
            "2820/2820 [==============================] - 238s 84ms/step - loss: 0.4469 - target_loss: 0.3051 - aux_loss: 0.1418 - target_accuracy: 0.7004 - aux_accuracy: 0.9326 - val_loss: 0.4607 - val_target_loss: 0.3149 - val_aux_loss: 0.1458 - val_target_accuracy: 0.6989 - val_aux_accuracy: 0.9448\n",
            "Epoch 6/10\n",
            "2820/2820 [==============================] - 236s 84ms/step - loss: 0.4429 - target_loss: 0.3021 - aux_loss: 0.1407 - target_accuracy: 0.7006 - aux_accuracy: 0.9296 - val_loss: 0.4593 - val_target_loss: 0.3141 - val_aux_loss: 0.1452 - val_target_accuracy: 0.7001 - val_aux_accuracy: 0.9262\n",
            "Epoch 7/10\n",
            "2820/2820 [==============================] - 340s 121ms/step - loss: 0.4421 - target_loss: 0.3014 - aux_loss: 0.1406 - target_accuracy: 0.7001 - aux_accuracy: 0.9309 - val_loss: 0.4623 - val_target_loss: 0.3162 - val_aux_loss: 0.1461 - val_target_accuracy: 0.6997 - val_aux_accuracy: 0.9300\n",
            "  2/191 [..............................] - ETA: 1:10WARNING:tensorflow:Callbacks method `on_predict_batch_end` is slow compared to the batch time (batch time: 0.0015s vs `on_predict_batch_end` time: 0.0322s). Check your callbacks.\n"
          ],
          "name": "stdout"
        },
        {
          "output_type": "stream",
          "text": [
            "WARNING:tensorflow:Callbacks method `on_predict_batch_end` is slow compared to the batch time (batch time: 0.0015s vs `on_predict_batch_end` time: 0.0322s). Check your callbacks.\n"
          ],
          "name": "stderr"
        },
        {
          "output_type": "stream",
          "text": [
            "191/191 [==============================] - 7s 34ms/step\n",
            "  1/191 [..............................] - ETA: 0sWARNING:tensorflow:Callbacks method `on_predict_batch_end` is slow compared to the batch time (batch time: 0.0016s vs `on_predict_batch_end` time: 0.0278s). Check your callbacks.\n"
          ],
          "name": "stdout"
        },
        {
          "output_type": "stream",
          "text": [
            "WARNING:tensorflow:Callbacks method `on_predict_batch_end` is slow compared to the batch time (batch time: 0.0016s vs `on_predict_batch_end` time: 0.0278s). Check your callbacks.\n"
          ],
          "name": "stderr"
        },
        {
          "output_type": "stream",
          "text": [
            "191/191 [==============================] - 5s 28ms/step\n",
            "WARNING:tensorflow:TPU system grpc://10.97.235.138:8470 has already been initialized. Reinitializing the TPU can cause previously created variables on TPU to be lost.\n"
          ],
          "name": "stdout"
        },
        {
          "output_type": "stream",
          "text": [
            "WARNING:tensorflow:TPU system grpc://10.97.235.138:8470 has already been initialized. Reinitializing the TPU can cause previously created variables on TPU to be lost.\n"
          ],
          "name": "stderr"
        },
        {
          "output_type": "stream",
          "text": [
            "INFO:tensorflow:Initializing the TPU system: grpc://10.97.235.138:8470\n"
          ],
          "name": "stdout"
        },
        {
          "output_type": "stream",
          "text": [
            "INFO:tensorflow:Initializing the TPU system: grpc://10.97.235.138:8470\n"
          ],
          "name": "stderr"
        },
        {
          "output_type": "stream",
          "text": [
            "INFO:tensorflow:Clearing out eager caches\n"
          ],
          "name": "stdout"
        },
        {
          "output_type": "stream",
          "text": [
            "INFO:tensorflow:Clearing out eager caches\n"
          ],
          "name": "stderr"
        },
        {
          "output_type": "stream",
          "text": [
            "INFO:tensorflow:Finished initializing TPU system.\n"
          ],
          "name": "stdout"
        },
        {
          "output_type": "stream",
          "text": [
            "INFO:tensorflow:Finished initializing TPU system.\n"
          ],
          "name": "stderr"
        },
        {
          "output_type": "stream",
          "text": [
            "Accuracy on public test: 0.953319\n",
            "Accuracy on private test: 0.953709\n",
            "Public AUC score : 0.931657\n",
            "Private AUC score : 0.933297\n"
          ],
          "name": "stdout"
        },
        {
          "output_type": "display_data",
          "data": {
            "image/png": "[encoded data removed]",
            "text/plain": [
              "<Figure size 1080x360 with 4 Axes>"
            ]
          },
          "metadata": {
            "tags": [],
            "needs_background": "light"
          }
        }
      ]
    },
    {
      "cell_type": "markdown",
      "metadata": {
        "id": "761aZPjLGtOH",
        "colab_type": "text"
      },
      "source": [
        "#### BiGRU2-256"
      ]
    },
    {
      "cell_type": "code",
      "metadata": {
        "id": "PATR_yaKI0MH",
        "colab_type": "code",
        "colab": {
          "base_uri": "https://localhost:8080/",
          "height": 1000
        },
        "outputId": "92ae2a41-5a16-47c7-8c46-614c9da56800"
      },
      "source": [
        "number_of_hidden_GRU_layers = 2 \n",
        "gru_units = 256\n",
        "dense_units = 4 * gru_units # * 4 because of concanation and bidirecrionality  \n",
        "train(number_of_hidden_GRU_layers, gru_units, dense_units)"
      ],
      "execution_count": null,
      "outputs": [
        {
          "output_type": "stream",
          "text": [
            "\n",
            "BiGRU2-256\n",
            "Epoch 1/10\n",
            "WARNING:tensorflow:From /usr/local/lib/python3.6/dist-packages/tensorflow/python/data/ops/multi_device_iterator_ops.py:601: get_next_as_optional (from tensorflow.python.data.ops.iterator_ops) is deprecated and will be removed in a future version.\n",
            "Instructions for updating:\n",
            "Use `tf.data.Iterator.get_next_as_optional()` instead.\n"
          ],
          "name": "stdout"
        },
        {
          "output_type": "stream",
          "text": [
            "WARNING:tensorflow:From /usr/local/lib/python3.6/dist-packages/tensorflow/python/data/ops/multi_device_iterator_ops.py:601: get_next_as_optional (from tensorflow.python.data.ops.iterator_ops) is deprecated and will be removed in a future version.\n",
            "Instructions for updating:\n",
            "Use `tf.data.Iterator.get_next_as_optional()` instead.\n"
          ],
          "name": "stderr"
        },
        {
          "output_type": "stream",
          "text": [
            "   2/2820 [..............................] - ETA: 2:33 - loss: 1.3830 - target_loss: 0.9006 - aux_loss: 0.4825 - target_accuracy: 0.6973 - aux_accuracy: 0.2627WARNING:tensorflow:Callbacks method `on_train_batch_end` is slow compared to the batch time (batch time: 0.0021s vs `on_train_batch_end` time: 0.0979s). Check your callbacks.\n"
          ],
          "name": "stdout"
        },
        {
          "output_type": "stream",
          "text": [
            "WARNING:tensorflow:Callbacks method `on_train_batch_end` is slow compared to the batch time (batch time: 0.0021s vs `on_train_batch_end` time: 0.0979s). Check your callbacks.\n"
          ],
          "name": "stderr"
        },
        {
          "output_type": "stream",
          "text": [
            "2820/2820 [==============================] - ETA: 0s - loss: 0.4741 - target_loss: 0.3235 - aux_loss: 0.1506 - target_accuracy: 0.6995 - aux_accuracy: 0.8988WARNING:tensorflow:Callbacks method `on_test_batch_end` is slow compared to the batch time (batch time: 0.0018s vs `on_test_batch_end` time: 0.0457s). Check your callbacks.\n"
          ],
          "name": "stdout"
        },
        {
          "output_type": "stream",
          "text": [
            "WARNING:tensorflow:Callbacks method `on_test_batch_end` is slow compared to the batch time (batch time: 0.0018s vs `on_test_batch_end` time: 0.0457s). Check your callbacks.\n"
          ],
          "name": "stderr"
        },
        {
          "output_type": "stream",
          "text": [
            "2820/2820 [==============================] - 311s 110ms/step - loss: 0.4741 - target_loss: 0.3235 - aux_loss: 0.1506 - target_accuracy: 0.6995 - aux_accuracy: 0.8988 - val_loss: 0.4651 - val_target_loss: 0.3178 - val_aux_loss: 0.1473 - val_target_accuracy: 0.6979 - val_aux_accuracy: 0.9272\n",
            "Epoch 2/10\n",
            "2820/2820 [==============================] - 309s 110ms/step - loss: 0.4588 - target_loss: 0.3135 - aux_loss: 0.1454 - target_accuracy: 0.7003 - aux_accuracy: 0.9124 - val_loss: 0.4609 - val_target_loss: 0.3155 - val_aux_loss: 0.1455 - val_target_accuracy: 0.6989 - val_aux_accuracy: 0.8942\n",
            "Epoch 3/10\n",
            "2820/2820 [==============================] - 309s 109ms/step - loss: 0.4518 - target_loss: 0.3084 - aux_loss: 0.1434 - target_accuracy: 0.7002 - aux_accuracy: 0.9203 - val_loss: 0.4583 - val_target_loss: 0.3133 - val_aux_loss: 0.1450 - val_target_accuracy: 0.7004 - val_aux_accuracy: 0.9076\n",
            "Epoch 4/10\n",
            "2820/2820 [==============================] - 313s 111ms/step - loss: 0.4469 - target_loss: 0.3050 - aux_loss: 0.1419 - target_accuracy: 0.7003 - aux_accuracy: 0.9257 - val_loss: 0.4583 - val_target_loss: 0.3133 - val_aux_loss: 0.1451 - val_target_accuracy: 0.6997 - val_aux_accuracy: 0.9264\n",
            "Epoch 5/10\n",
            "2820/2820 [==============================] - 417s 148ms/step - loss: 0.4414 - target_loss: 0.3012 - aux_loss: 0.1402 - target_accuracy: 0.7002 - aux_accuracy: 0.9264 - val_loss: 0.4609 - val_target_loss: 0.3151 - val_aux_loss: 0.1457 - val_target_accuracy: 0.6995 - val_aux_accuracy: 0.9008\n",
            "  2/191 [..............................] - ETA: 1:08WARNING:tensorflow:Callbacks method `on_predict_batch_end` is slow compared to the batch time (batch time: 0.0015s vs `on_predict_batch_end` time: 0.0359s). Check your callbacks.\n"
          ],
          "name": "stdout"
        },
        {
          "output_type": "stream",
          "text": [
            "WARNING:tensorflow:Callbacks method `on_predict_batch_end` is slow compared to the batch time (batch time: 0.0015s vs `on_predict_batch_end` time: 0.0359s). Check your callbacks.\n"
          ],
          "name": "stderr"
        },
        {
          "output_type": "stream",
          "text": [
            "191/191 [==============================] - 8s 39ms/step\n",
            "  1/191 [..............................] - ETA: 0sWARNING:tensorflow:Callbacks method `on_predict_batch_end` is slow compared to the batch time (batch time: 0.0014s vs `on_predict_batch_end` time: 0.0316s). Check your callbacks.\n"
          ],
          "name": "stdout"
        },
        {
          "output_type": "stream",
          "text": [
            "WARNING:tensorflow:Callbacks method `on_predict_batch_end` is slow compared to the batch time (batch time: 0.0014s vs `on_predict_batch_end` time: 0.0316s). Check your callbacks.\n"
          ],
          "name": "stderr"
        },
        {
          "output_type": "stream",
          "text": [
            "191/191 [==============================] - 6s 33ms/step\n",
            "WARNING:tensorflow:TPU system grpc://10.65.69.50:8470 has already been initialized. Reinitializing the TPU can cause previously created variables on TPU to be lost.\n"
          ],
          "name": "stdout"
        },
        {
          "output_type": "stream",
          "text": [
            "WARNING:tensorflow:TPU system grpc://10.65.69.50:8470 has already been initialized. Reinitializing the TPU can cause previously created variables on TPU to be lost.\n"
          ],
          "name": "stderr"
        },
        {
          "output_type": "stream",
          "text": [
            "INFO:tensorflow:Initializing the TPU system: grpc://10.65.69.50:8470\n"
          ],
          "name": "stdout"
        },
        {
          "output_type": "stream",
          "text": [
            "INFO:tensorflow:Initializing the TPU system: grpc://10.65.69.50:8470\n"
          ],
          "name": "stderr"
        },
        {
          "output_type": "stream",
          "text": [
            "INFO:tensorflow:Clearing out eager caches\n"
          ],
          "name": "stdout"
        },
        {
          "output_type": "stream",
          "text": [
            "INFO:tensorflow:Clearing out eager caches\n"
          ],
          "name": "stderr"
        },
        {
          "output_type": "stream",
          "text": [
            "INFO:tensorflow:Finished initializing TPU system.\n"
          ],
          "name": "stdout"
        },
        {
          "output_type": "stream",
          "text": [
            "INFO:tensorflow:Finished initializing TPU system.\n"
          ],
          "name": "stderr"
        },
        {
          "output_type": "stream",
          "text": [
            "Epoch 1/10\n",
            "   2/2820 [..............................] - ETA: 2:26 - loss: 1.4862 - target_loss: 0.9529 - aux_loss: 0.5334 - target_accuracy: 0.3701 - aux_accuracy: 0.9629WARNING:tensorflow:Callbacks method `on_train_batch_end` is slow compared to the batch time (batch time: 0.0022s vs `on_train_batch_end` time: 0.0944s). Check your callbacks.\n"
          ],
          "name": "stdout"
        },
        {
          "output_type": "stream",
          "text": [
            "WARNING:tensorflow:Callbacks method `on_train_batch_end` is slow compared to the batch time (batch time: 0.0022s vs `on_train_batch_end` time: 0.0944s). Check your callbacks.\n"
          ],
          "name": "stderr"
        },
        {
          "output_type": "stream",
          "text": [
            "2820/2820 [==============================] - ETA: 0s - loss: 0.4738 - target_loss: 0.3234 - aux_loss: 0.1504 - target_accuracy: 0.6995 - aux_accuracy: 0.8985WARNING:tensorflow:Callbacks method `on_test_batch_end` is slow compared to the batch time (batch time: 0.0017s vs `on_test_batch_end` time: 0.0439s). Check your callbacks.\n"
          ],
          "name": "stdout"
        },
        {
          "output_type": "stream",
          "text": [
            "WARNING:tensorflow:Callbacks method `on_test_batch_end` is slow compared to the batch time (batch time: 0.0017s vs `on_test_batch_end` time: 0.0439s). Check your callbacks.\n"
          ],
          "name": "stderr"
        },
        {
          "output_type": "stream",
          "text": [
            "2820/2820 [==============================] - 313s 111ms/step - loss: 0.4738 - target_loss: 0.3234 - aux_loss: 0.1504 - target_accuracy: 0.6995 - aux_accuracy: 0.8985 - val_loss: 0.4622 - val_target_loss: 0.3159 - val_aux_loss: 0.1463 - val_target_accuracy: 0.6991 - val_aux_accuracy: 0.9206\n",
            "Epoch 2/10\n",
            "2820/2820 [==============================] - 310s 110ms/step - loss: 0.4576 - target_loss: 0.3125 - aux_loss: 0.1451 - target_accuracy: 0.7000 - aux_accuracy: 0.9114 - val_loss: 0.4614 - val_target_loss: 0.3158 - val_aux_loss: 0.1456 - val_target_accuracy: 0.7001 - val_aux_accuracy: 0.9050\n",
            "Epoch 3/10\n",
            "2820/2820 [==============================] - 308s 109ms/step - loss: 0.4539 - target_loss: 0.3101 - aux_loss: 0.1439 - target_accuracy: 0.6999 - aux_accuracy: 0.9207 - val_loss: 0.4581 - val_target_loss: 0.3131 - val_aux_loss: 0.1450 - val_target_accuracy: 0.6996 - val_aux_accuracy: 0.9220\n",
            "Epoch 4/10\n",
            "2820/2820 [==============================] - 314s 111ms/step - loss: 0.4466 - target_loss: 0.3048 - aux_loss: 0.1418 - target_accuracy: 0.7003 - aux_accuracy: 0.9231 - val_loss: 0.4593 - val_target_loss: 0.3139 - val_aux_loss: 0.1454 - val_target_accuracy: 0.6993 - val_aux_accuracy: 0.9304\n",
            "Epoch 5/10\n",
            "2820/2820 [==============================] - 413s 146ms/step - loss: 0.4417 - target_loss: 0.3013 - aux_loss: 0.1404 - target_accuracy: 0.7003 - aux_accuracy: 0.9245 - val_loss: 0.4637 - val_target_loss: 0.3172 - val_aux_loss: 0.1465 - val_target_accuracy: 0.7001 - val_aux_accuracy: 0.9087\n",
            "  2/191 [..............................] - ETA: 1:10WARNING:tensorflow:Callbacks method `on_predict_batch_end` is slow compared to the batch time (batch time: 0.0014s vs `on_predict_batch_end` time: 0.0346s). Check your callbacks.\n"
          ],
          "name": "stdout"
        },
        {
          "output_type": "stream",
          "text": [
            "WARNING:tensorflow:Callbacks method `on_predict_batch_end` is slow compared to the batch time (batch time: 0.0014s vs `on_predict_batch_end` time: 0.0346s). Check your callbacks.\n"
          ],
          "name": "stderr"
        },
        {
          "output_type": "stream",
          "text": [
            "191/191 [==============================] - 8s 40ms/step\n",
            "  1/191 [..............................] - ETA: 0sWARNING:tensorflow:Callbacks method `on_predict_batch_end` is slow compared to the batch time (batch time: 0.0015s vs `on_predict_batch_end` time: 0.0322s). Check your callbacks.\n"
          ],
          "name": "stdout"
        },
        {
          "output_type": "stream",
          "text": [
            "WARNING:tensorflow:Callbacks method `on_predict_batch_end` is slow compared to the batch time (batch time: 0.0015s vs `on_predict_batch_end` time: 0.0322s). Check your callbacks.\n"
          ],
          "name": "stderr"
        },
        {
          "output_type": "stream",
          "text": [
            "191/191 [==============================] - 6s 33ms/step\n",
            "WARNING:tensorflow:TPU system grpc://10.65.69.50:8470 has already been initialized. Reinitializing the TPU can cause previously created variables on TPU to be lost.\n"
          ],
          "name": "stdout"
        },
        {
          "output_type": "stream",
          "text": [
            "WARNING:tensorflow:TPU system grpc://10.65.69.50:8470 has already been initialized. Reinitializing the TPU can cause previously created variables on TPU to be lost.\n"
          ],
          "name": "stderr"
        },
        {
          "output_type": "stream",
          "text": [
            "INFO:tensorflow:Initializing the TPU system: grpc://10.65.69.50:8470\n"
          ],
          "name": "stdout"
        },
        {
          "output_type": "stream",
          "text": [
            "INFO:tensorflow:Initializing the TPU system: grpc://10.65.69.50:8470\n"
          ],
          "name": "stderr"
        },
        {
          "output_type": "stream",
          "text": [
            "INFO:tensorflow:Clearing out eager caches\n"
          ],
          "name": "stdout"
        },
        {
          "output_type": "stream",
          "text": [
            "INFO:tensorflow:Clearing out eager caches\n"
          ],
          "name": "stderr"
        },
        {
          "output_type": "stream",
          "text": [
            "INFO:tensorflow:Finished initializing TPU system.\n"
          ],
          "name": "stdout"
        },
        {
          "output_type": "stream",
          "text": [
            "INFO:tensorflow:Finished initializing TPU system.\n"
          ],
          "name": "stderr"
        },
        {
          "output_type": "stream",
          "text": [
            "Accuracy on public test: 0.952517\n",
            "Accuracy on private test: 0.953216\n",
            "Public AUC score : 0.932302\n",
            "Private AUC score : 0.933735\n"
          ],
          "name": "stdout"
        },
        {
          "output_type": "display_data",
          "data": {
            "image/png": "[encoded data removed]",
            "text/plain": [
              "<Figure size 1080x360 with 4 Axes>"
            ]
          },
          "metadata": {
            "tags": [],
            "needs_background": "light"
          }
        }
      ]
    },
    {
      "cell_type": "markdown",
      "metadata": {
        "id": "R4UnIN-wICiT",
        "colab_type": "text"
      },
      "source": [
        "### 3-LAYERS"
      ]
    },
    {
      "cell_type": "markdown",
      "metadata": {
        "id": "1tPA4tEoIFez",
        "colab_type": "text"
      },
      "source": [
        "#### BiGRU3-64"
      ]
    },
    {
      "cell_type": "code",
      "metadata": {
        "id": "IPr2uGg5ISPO",
        "colab_type": "code",
        "colab": {
          "base_uri": "https://localhost:8080/",
          "height": 51
        },
        "outputId": "5683a44c-6ec9-48c4-9bf6-e57913cbe22e"
      },
      "source": [
        "number_of_hidden_GRU_layers = 3 \n",
        "gru_units = 64\n",
        "dense_units = 4 * gru_units\n",
        "train(number_of_hidden_GRU_layers, gru_units, dense_units)"
      ],
      "execution_count": null,
      "outputs": [
        {
          "output_type": "stream",
          "text": [
            "\n",
            "BiGRU3-64\n"
          ],
          "name": "stdout"
        }
      ]
    },
    {
      "cell_type": "markdown",
      "metadata": {
        "id": "Xf_LNywyIKf_",
        "colab_type": "text"
      },
      "source": [
        "#### BiGRU3-128"
      ]
    },
    {
      "cell_type": "code",
      "metadata": {
        "id": "yRpeWbaxISn_",
        "colab_type": "code",
        "colab": {
          "base_uri": "https://localhost:8080/",
          "height": 1000
        },
        "outputId": "1aa04c22-2216-4ed3-94c9-a24998c18bd5"
      },
      "source": [
        "number_of_hidden_GRU_layers = 3 \n",
        "gru_units = 128\n",
        "dense_units = 4 * gru_units\n",
        "train(number_of_hidden_GRU_layers, gru_units, dense_units)"
      ],
      "execution_count": null,
      "outputs": [
        {
          "output_type": "stream",
          "text": [
            "\n",
            "BiGRU3-128\n",
            "Epoch 1/10\n",
            "WARNING:tensorflow:From /usr/local/lib/python3.6/dist-packages/tensorflow/python/data/ops/multi_device_iterator_ops.py:601: get_next_as_optional (from tensorflow.python.data.ops.iterator_ops) is deprecated and will be removed in a future version.\n",
            "Instructions for updating:\n",
            "Use `tf.data.Iterator.get_next_as_optional()` instead.\n"
          ],
          "name": "stdout"
        },
        {
          "output_type": "stream",
          "text": [
            "WARNING:tensorflow:From /usr/local/lib/python3.6/dist-packages/tensorflow/python/data/ops/multi_device_iterator_ops.py:601: get_next_as_optional (from tensorflow.python.data.ops.iterator_ops) is deprecated and will be removed in a future version.\n",
            "Instructions for updating:\n",
            "Use `tf.data.Iterator.get_next_as_optional()` instead.\n"
          ],
          "name": "stderr"
        },
        {
          "output_type": "stream",
          "text": [
            "   2/2820 [..............................] - ETA: 2:13 - loss: 1.1310 - target_loss: 0.5709 - aux_loss: 0.5601 - target_accuracy: 0.6680 - aux_accuracy: 0.0967WARNING:tensorflow:Callbacks method `on_train_batch_end` is slow compared to the batch time (batch time: 0.0023s vs `on_train_batch_end` time: 0.0863s). Check your callbacks.\n"
          ],
          "name": "stdout"
        },
        {
          "output_type": "stream",
          "text": [
            "WARNING:tensorflow:Callbacks method `on_train_batch_end` is slow compared to the batch time (batch time: 0.0023s vs `on_train_batch_end` time: 0.0863s). Check your callbacks.\n"
          ],
          "name": "stderr"
        },
        {
          "output_type": "stream",
          "text": [
            "2820/2820 [==============================] - ETA: 0s - loss: 0.4743 - target_loss: 0.3235 - aux_loss: 0.1508 - target_accuracy: 0.6996 - aux_accuracy: 0.9030WARNING:tensorflow:Callbacks method `on_test_batch_end` is slow compared to the batch time (batch time: 0.0017s vs `on_test_batch_end` time: 0.0411s). Check your callbacks.\n"
          ],
          "name": "stdout"
        },
        {
          "output_type": "stream",
          "text": [
            "WARNING:tensorflow:Callbacks method `on_test_batch_end` is slow compared to the batch time (batch time: 0.0017s vs `on_test_batch_end` time: 0.0411s). Check your callbacks.\n"
          ],
          "name": "stderr"
        },
        {
          "output_type": "stream",
          "text": [
            "2820/2820 [==============================] - 281s 100ms/step - loss: 0.4743 - target_loss: 0.3235 - aux_loss: 0.1508 - target_accuracy: 0.6996 - aux_accuracy: 0.9030 - val_loss: 0.4636 - val_target_loss: 0.3171 - val_aux_loss: 0.1464 - val_target_accuracy: 0.7004 - val_aux_accuracy: 0.9245\n",
            "Epoch 2/10\n",
            "2820/2820 [==============================] - 278s 99ms/step - loss: 0.4591 - target_loss: 0.3135 - aux_loss: 0.1456 - target_accuracy: 0.6999 - aux_accuracy: 0.9144 - val_loss: 0.4592 - val_target_loss: 0.3138 - val_aux_loss: 0.1454 - val_target_accuracy: 0.6998 - val_aux_accuracy: 0.9183\n",
            "Epoch 3/10\n",
            "2820/2820 [==============================] - 280s 99ms/step - loss: 0.4546 - target_loss: 0.3105 - aux_loss: 0.1442 - target_accuracy: 0.7000 - aux_accuracy: 0.9238 - val_loss: 0.4573 - val_target_loss: 0.3124 - val_aux_loss: 0.1449 - val_target_accuracy: 0.7001 - val_aux_accuracy: 0.9439\n",
            "Epoch 4/10\n",
            "2820/2820 [==============================] - 282s 100ms/step - loss: 0.4497 - target_loss: 0.3070 - aux_loss: 0.1426 - target_accuracy: 0.7001 - aux_accuracy: 0.9298 - val_loss: 0.4589 - val_target_loss: 0.3137 - val_aux_loss: 0.1452 - val_target_accuracy: 0.6990 - val_aux_accuracy: 0.9494\n",
            "Epoch 5/10\n",
            "2820/2820 [==============================] - 384s 136ms/step - loss: 0.4466 - target_loss: 0.3047 - aux_loss: 0.1419 - target_accuracy: 0.7003 - aux_accuracy: 0.9345 - val_loss: 0.4596 - val_target_loss: 0.3143 - val_aux_loss: 0.1452 - val_target_accuracy: 0.7001 - val_aux_accuracy: 0.9020\n",
            "  2/191 [..............................] - ETA: 1:22WARNING:tensorflow:Callbacks method `on_predict_batch_end` is slow compared to the batch time (batch time: 0.0015s vs `on_predict_batch_end` time: 0.0336s). Check your callbacks.\n"
          ],
          "name": "stdout"
        },
        {
          "output_type": "stream",
          "text": [
            "WARNING:tensorflow:Callbacks method `on_predict_batch_end` is slow compared to the batch time (batch time: 0.0015s vs `on_predict_batch_end` time: 0.0336s). Check your callbacks.\n"
          ],
          "name": "stderr"
        },
        {
          "output_type": "stream",
          "text": [
            "191/191 [==============================] - 7s 39ms/step\n",
            "  1/191 [..............................] - ETA: 0sWARNING:tensorflow:Callbacks method `on_predict_batch_end` is slow compared to the batch time (batch time: 0.0017s vs `on_predict_batch_end` time: 0.0305s). Check your callbacks.\n"
          ],
          "name": "stdout"
        },
        {
          "output_type": "stream",
          "text": [
            "WARNING:tensorflow:Callbacks method `on_predict_batch_end` is slow compared to the batch time (batch time: 0.0017s vs `on_predict_batch_end` time: 0.0305s). Check your callbacks.\n"
          ],
          "name": "stderr"
        },
        {
          "output_type": "stream",
          "text": [
            "191/191 [==============================] - 6s 32ms/step\n",
            "WARNING:tensorflow:TPU system grpc://10.13.191.122:8470 has already been initialized. Reinitializing the TPU can cause previously created variables on TPU to be lost.\n"
          ],
          "name": "stdout"
        },
        {
          "output_type": "stream",
          "text": [
            "WARNING:tensorflow:TPU system grpc://10.13.191.122:8470 has already been initialized. Reinitializing the TPU can cause previously created variables on TPU to be lost.\n"
          ],
          "name": "stderr"
        },
        {
          "output_type": "stream",
          "text": [
            "INFO:tensorflow:Initializing the TPU system: grpc://10.13.191.122:8470\n"
          ],
          "name": "stdout"
        },
        {
          "output_type": "stream",
          "text": [
            "INFO:tensorflow:Initializing the TPU system: grpc://10.13.191.122:8470\n"
          ],
          "name": "stderr"
        },
        {
          "output_type": "stream",
          "text": [
            "INFO:tensorflow:Clearing out eager caches\n"
          ],
          "name": "stdout"
        },
        {
          "output_type": "stream",
          "text": [
            "INFO:tensorflow:Clearing out eager caches\n"
          ],
          "name": "stderr"
        },
        {
          "output_type": "stream",
          "text": [
            "INFO:tensorflow:Finished initializing TPU system.\n"
          ],
          "name": "stdout"
        },
        {
          "output_type": "stream",
          "text": [
            "INFO:tensorflow:Finished initializing TPU system.\n"
          ],
          "name": "stderr"
        },
        {
          "output_type": "stream",
          "text": [
            "Epoch 1/10\n",
            "   2/2820 [..............................] - ETA: 2:28 - loss: 1.1484 - target_loss: 0.6029 - aux_loss: 0.5455 - target_accuracy: 0.3643 - aux_accuracy: 0.3945WARNING:tensorflow:Callbacks method `on_train_batch_end` is slow compared to the batch time (batch time: 0.0022s vs `on_train_batch_end` time: 0.0954s). Check your callbacks.\n"
          ],
          "name": "stdout"
        },
        {
          "output_type": "stream",
          "text": [
            "WARNING:tensorflow:Callbacks method `on_train_batch_end` is slow compared to the batch time (batch time: 0.0022s vs `on_train_batch_end` time: 0.0954s). Check your callbacks.\n"
          ],
          "name": "stderr"
        },
        {
          "output_type": "stream",
          "text": [
            "2820/2820 [==============================] - ETA: 0s - loss: 0.4758 - target_loss: 0.3245 - aux_loss: 0.1514 - target_accuracy: 0.6991 - aux_accuracy: 0.9045WARNING:tensorflow:Callbacks method `on_test_batch_end` is slow compared to the batch time (batch time: 0.0018s vs `on_test_batch_end` time: 0.0441s). Check your callbacks.\n"
          ],
          "name": "stdout"
        },
        {
          "output_type": "stream",
          "text": [
            "WARNING:tensorflow:Callbacks method `on_test_batch_end` is slow compared to the batch time (batch time: 0.0018s vs `on_test_batch_end` time: 0.0441s). Check your callbacks.\n"
          ],
          "name": "stderr"
        },
        {
          "output_type": "stream",
          "text": [
            "2820/2820 [==============================] - 282s 100ms/step - loss: 0.4758 - target_loss: 0.3245 - aux_loss: 0.1514 - target_accuracy: 0.6991 - aux_accuracy: 0.9045 - val_loss: 0.4632 - val_target_loss: 0.3168 - val_aux_loss: 0.1464 - val_target_accuracy: 0.7003 - val_aux_accuracy: 0.9121\n",
            "Epoch 2/10\n",
            "2820/2820 [==============================] - 280s 99ms/step - loss: 0.4595 - target_loss: 0.3139 - aux_loss: 0.1456 - target_accuracy: 0.7001 - aux_accuracy: 0.9172 - val_loss: 0.4585 - val_target_loss: 0.3134 - val_aux_loss: 0.1451 - val_target_accuracy: 0.7000 - val_aux_accuracy: 0.8965\n",
            "Epoch 3/10\n",
            "2820/2820 [==============================] - 280s 99ms/step - loss: 0.4545 - target_loss: 0.3104 - aux_loss: 0.1441 - target_accuracy: 0.7000 - aux_accuracy: 0.9269 - val_loss: 0.4575 - val_target_loss: 0.3128 - val_aux_loss: 0.1448 - val_target_accuracy: 0.6995 - val_aux_accuracy: 0.9520\n",
            "Epoch 4/10\n",
            "2820/2820 [==============================] - 286s 101ms/step - loss: 0.4484 - target_loss: 0.3062 - aux_loss: 0.1422 - target_accuracy: 0.7006 - aux_accuracy: 0.9315 - val_loss: 0.4579 - val_target_loss: 0.3128 - val_aux_loss: 0.1451 - val_target_accuracy: 0.7001 - val_aux_accuracy: 0.9416\n",
            "Epoch 5/10\n",
            "2820/2820 [==============================] - 388s 138ms/step - loss: 0.4466 - target_loss: 0.3047 - aux_loss: 0.1419 - target_accuracy: 0.7004 - aux_accuracy: 0.9352 - val_loss: 0.4628 - val_target_loss: 0.3164 - val_aux_loss: 0.1463 - val_target_accuracy: 0.6981 - val_aux_accuracy: 0.9155\n",
            "  2/191 [..............................] - ETA: 1:23WARNING:tensorflow:Callbacks method `on_predict_batch_end` is slow compared to the batch time (batch time: 0.0015s vs `on_predict_batch_end` time: 0.0312s). Check your callbacks.\n"
          ],
          "name": "stdout"
        },
        {
          "output_type": "stream",
          "text": [
            "WARNING:tensorflow:Callbacks method `on_predict_batch_end` is slow compared to the batch time (batch time: 0.0015s vs `on_predict_batch_end` time: 0.0312s). Check your callbacks.\n"
          ],
          "name": "stderr"
        },
        {
          "output_type": "stream",
          "text": [
            "191/191 [==============================] - 7s 39ms/step\n",
            "  1/191 [..............................] - ETA: 0sWARNING:tensorflow:Callbacks method `on_predict_batch_end` is slow compared to the batch time (batch time: 0.0014s vs `on_predict_batch_end` time: 0.0305s). Check your callbacks.\n"
          ],
          "name": "stdout"
        },
        {
          "output_type": "stream",
          "text": [
            "WARNING:tensorflow:Callbacks method `on_predict_batch_end` is slow compared to the batch time (batch time: 0.0014s vs `on_predict_batch_end` time: 0.0305s). Check your callbacks.\n"
          ],
          "name": "stderr"
        },
        {
          "output_type": "stream",
          "text": [
            "191/191 [==============================] - 6s 31ms/step\n",
            "WARNING:tensorflow:TPU system grpc://10.13.191.122:8470 has already been initialized. Reinitializing the TPU can cause previously created variables on TPU to be lost.\n"
          ],
          "name": "stdout"
        },
        {
          "output_type": "stream",
          "text": [
            "WARNING:tensorflow:TPU system grpc://10.13.191.122:8470 has already been initialized. Reinitializing the TPU can cause previously created variables on TPU to be lost.\n"
          ],
          "name": "stderr"
        },
        {
          "output_type": "stream",
          "text": [
            "INFO:tensorflow:Initializing the TPU system: grpc://10.13.191.122:8470\n"
          ],
          "name": "stdout"
        },
        {
          "output_type": "stream",
          "text": [
            "INFO:tensorflow:Initializing the TPU system: grpc://10.13.191.122:8470\n"
          ],
          "name": "stderr"
        },
        {
          "output_type": "stream",
          "text": [
            "INFO:tensorflow:Clearing out eager caches\n"
          ],
          "name": "stdout"
        },
        {
          "output_type": "stream",
          "text": [
            "INFO:tensorflow:Clearing out eager caches\n"
          ],
          "name": "stderr"
        },
        {
          "output_type": "stream",
          "text": [
            "INFO:tensorflow:Finished initializing TPU system.\n"
          ],
          "name": "stdout"
        },
        {
          "output_type": "stream",
          "text": [
            "INFO:tensorflow:Finished initializing TPU system.\n"
          ],
          "name": "stderr"
        },
        {
          "output_type": "stream",
          "text": [
            "Accuracy on public test: 0.952867\n",
            "Accuracy on private test: 0.952826\n",
            "Public AUC score : 0.931684\n",
            "Private AUC score : 0.933752\n"
          ],
          "name": "stdout"
        },
        {
          "output_type": "display_data",
          "data": {
            "image/png": "[encoded data removed]",
            "text/plain": [
              "<Figure size 1080x360 with 4 Axes>"
            ]
          },
          "metadata": {
            "tags": [],
            "needs_background": "light"
          }
        }
      ]
    },
    {
      "cell_type": "markdown",
      "metadata": {
        "id": "rEFtIULVINci",
        "colab_type": "text"
      },
      "source": [
        "#### BiGRU3-256"
      ]
    },
    {
      "cell_type": "code",
      "metadata": {
        "id": "SV7r-adsITJ_",
        "colab_type": "code",
        "colab": {
          "base_uri": "https://localhost:8080/",
          "height": 1000
        },
        "outputId": "29a891f5-2f4c-4ccb-dcac-7e3e548d1f9b"
      },
      "source": [
        "number_of_hidden_GRU_layers = 3\n",
        "gru_units = 256\n",
        "dense_units = 4 * gru_units\n",
        "train(number_of_hidden_GRU_layers, gru_units, dense_units)"
      ],
      "execution_count": null,
      "outputs": [
        {
          "output_type": "stream",
          "text": [
            "\n",
            "BiGRU3-256\n",
            "Epoch 1/10\n",
            "   2/2820 [..............................] - ETA: 3:13 - loss: 1.2167 - target_loss: 0.7720 - aux_loss: 0.4447 - target_accuracy: 0.7021 - aux_accuracy: 0.9648WARNING:tensorflow:Callbacks method `on_train_batch_end` is slow compared to the batch time (batch time: 0.0023s vs `on_train_batch_end` time: 0.1268s). Check your callbacks.\n"
          ],
          "name": "stdout"
        },
        {
          "output_type": "stream",
          "text": [
            "WARNING:tensorflow:Callbacks method `on_train_batch_end` is slow compared to the batch time (batch time: 0.0023s vs `on_train_batch_end` time: 0.1268s). Check your callbacks.\n"
          ],
          "name": "stderr"
        },
        {
          "output_type": "stream",
          "text": [
            "2820/2820 [==============================] - ETA: 0s - loss: 0.4747 - target_loss: 0.3240 - aux_loss: 0.1507 - target_accuracy: 0.6991 - aux_accuracy: 0.8955WARNING:tensorflow:Callbacks method `on_test_batch_end` is slow compared to the batch time (batch time: 0.0018s vs `on_test_batch_end` time: 0.0499s). Check your callbacks.\n"
          ],
          "name": "stdout"
        },
        {
          "output_type": "stream",
          "text": [
            "WARNING:tensorflow:Callbacks method `on_test_batch_end` is slow compared to the batch time (batch time: 0.0018s vs `on_test_batch_end` time: 0.0499s). Check your callbacks.\n"
          ],
          "name": "stderr"
        },
        {
          "output_type": "stream",
          "text": [
            "2820/2820 [==============================] - 408s 145ms/step - loss: 0.4747 - target_loss: 0.3240 - aux_loss: 0.1507 - target_accuracy: 0.6991 - aux_accuracy: 0.8955 - val_loss: 0.4640 - val_target_loss: 0.3170 - val_aux_loss: 0.1469 - val_target_accuracy: 0.7001 - val_aux_accuracy: 0.8328\n",
            "Epoch 2/10\n",
            "2820/2820 [==============================] - 406s 144ms/step - loss: 0.4574 - target_loss: 0.3124 - aux_loss: 0.1450 - target_accuracy: 0.6997 - aux_accuracy: 0.9074 - val_loss: 0.4606 - val_target_loss: 0.3153 - val_aux_loss: 0.1454 - val_target_accuracy: 0.6985 - val_aux_accuracy: 0.9648\n",
            "Epoch 3/10\n",
            "2820/2820 [==============================] - 405s 143ms/step - loss: 0.4527 - target_loss: 0.3091 - aux_loss: 0.1436 - target_accuracy: 0.7006 - aux_accuracy: 0.9216 - val_loss: 0.4587 - val_target_loss: 0.3134 - val_aux_loss: 0.1453 - val_target_accuracy: 0.6989 - val_aux_accuracy: 0.8829\n",
            "Epoch 4/10\n",
            "2820/2820 [==============================] - 410s 145ms/step - loss: 0.4462 - target_loss: 0.3045 - aux_loss: 0.1417 - target_accuracy: 0.7005 - aux_accuracy: 0.9246 - val_loss: 0.4584 - val_target_loss: 0.3132 - val_aux_loss: 0.1452 - val_target_accuracy: 0.6998 - val_aux_accuracy: 0.8308\n",
            "Epoch 5/10\n",
            "2820/2820 [==============================] - 515s 183ms/step - loss: 0.4398 - target_loss: 0.2999 - aux_loss: 0.1398 - target_accuracy: 0.7006 - aux_accuracy: 0.9283 - val_loss: 0.4606 - val_target_loss: 0.3149 - val_aux_loss: 0.1457 - val_target_accuracy: 0.6998 - val_aux_accuracy: 0.9284\n",
            "  2/191 [..............................] - ETA: 1:25WARNING:tensorflow:Callbacks method `on_predict_batch_end` is slow compared to the batch time (batch time: 0.0015s vs `on_predict_batch_end` time: 0.0410s). Check your callbacks.\n"
          ],
          "name": "stdout"
        },
        {
          "output_type": "stream",
          "text": [
            "WARNING:tensorflow:Callbacks method `on_predict_batch_end` is slow compared to the batch time (batch time: 0.0015s vs `on_predict_batch_end` time: 0.0410s). Check your callbacks.\n"
          ],
          "name": "stderr"
        },
        {
          "output_type": "stream",
          "text": [
            "191/191 [==============================] - 9s 48ms/step\n",
            "  1/191 [..............................] - ETA: 0sWARNING:tensorflow:Callbacks method `on_predict_batch_end` is slow compared to the batch time (batch time: 0.0015s vs `on_predict_batch_end` time: 0.0390s). Check your callbacks.\n"
          ],
          "name": "stdout"
        },
        {
          "output_type": "stream",
          "text": [
            "WARNING:tensorflow:Callbacks method `on_predict_batch_end` is slow compared to the batch time (batch time: 0.0015s vs `on_predict_batch_end` time: 0.0390s). Check your callbacks.\n"
          ],
          "name": "stderr"
        },
        {
          "output_type": "stream",
          "text": [
            "191/191 [==============================] - 8s 40ms/step\n",
            "WARNING:tensorflow:TPU system grpc://10.13.191.122:8470 has already been initialized. Reinitializing the TPU can cause previously created variables on TPU to be lost.\n"
          ],
          "name": "stdout"
        },
        {
          "output_type": "stream",
          "text": [
            "WARNING:tensorflow:TPU system grpc://10.13.191.122:8470 has already been initialized. Reinitializing the TPU can cause previously created variables on TPU to be lost.\n"
          ],
          "name": "stderr"
        },
        {
          "output_type": "stream",
          "text": [
            "INFO:tensorflow:Initializing the TPU system: grpc://10.13.191.122:8470\n"
          ],
          "name": "stdout"
        },
        {
          "output_type": "stream",
          "text": [
            "INFO:tensorflow:Initializing the TPU system: grpc://10.13.191.122:8470\n"
          ],
          "name": "stderr"
        },
        {
          "output_type": "stream",
          "text": [
            "INFO:tensorflow:Clearing out eager caches\n"
          ],
          "name": "stdout"
        },
        {
          "output_type": "stream",
          "text": [
            "INFO:tensorflow:Clearing out eager caches\n"
          ],
          "name": "stderr"
        },
        {
          "output_type": "stream",
          "text": [
            "INFO:tensorflow:Finished initializing TPU system.\n"
          ],
          "name": "stdout"
        },
        {
          "output_type": "stream",
          "text": [
            "INFO:tensorflow:Finished initializing TPU system.\n"
          ],
          "name": "stderr"
        },
        {
          "output_type": "stream",
          "text": [
            "Epoch 1/10\n",
            "   2/2820 [..............................] - ETA: 3:12 - loss: 1.3027 - target_loss: 0.8464 - aux_loss: 0.4563 - target_accuracy: 0.6992 - aux_accuracy: 0.1904WARNING:tensorflow:Callbacks method `on_train_batch_end` is slow compared to the batch time (batch time: 0.0024s vs `on_train_batch_end` time: 0.1283s). Check your callbacks.\n"
          ],
          "name": "stdout"
        },
        {
          "output_type": "stream",
          "text": [
            "WARNING:tensorflow:Callbacks method `on_train_batch_end` is slow compared to the batch time (batch time: 0.0024s vs `on_train_batch_end` time: 0.1283s). Check your callbacks.\n"
          ],
          "name": "stderr"
        },
        {
          "output_type": "stream",
          "text": [
            "2820/2820 [==============================] - ETA: 0s - loss: 0.4760 - target_loss: 0.3248 - aux_loss: 0.1511 - target_accuracy: 0.6990 - aux_accuracy: 0.8936WARNING:tensorflow:Callbacks method `on_test_batch_end` is slow compared to the batch time (batch time: 0.0018s vs `on_test_batch_end` time: 0.0508s). Check your callbacks.\n"
          ],
          "name": "stdout"
        },
        {
          "output_type": "stream",
          "text": [
            "WARNING:tensorflow:Callbacks method `on_test_batch_end` is slow compared to the batch time (batch time: 0.0018s vs `on_test_batch_end` time: 0.0508s). Check your callbacks.\n"
          ],
          "name": "stderr"
        },
        {
          "output_type": "stream",
          "text": [
            "2820/2820 [==============================] - 407s 144ms/step - loss: 0.4760 - target_loss: 0.3248 - aux_loss: 0.1511 - target_accuracy: 0.6990 - aux_accuracy: 0.8936 - val_loss: 0.4652 - val_target_loss: 0.3182 - val_aux_loss: 0.1470 - val_target_accuracy: 0.6981 - val_aux_accuracy: 0.9295\n",
            "Epoch 2/10\n",
            "2820/2820 [==============================] - 405s 144ms/step - loss: 0.4578 - target_loss: 0.3127 - aux_loss: 0.1451 - target_accuracy: 0.7001 - aux_accuracy: 0.9161 - val_loss: 0.4581 - val_target_loss: 0.3132 - val_aux_loss: 0.1450 - val_target_accuracy: 0.6995 - val_aux_accuracy: 0.8694\n",
            "Epoch 3/10\n",
            "2820/2820 [==============================] - 405s 144ms/step - loss: 0.4512 - target_loss: 0.3081 - aux_loss: 0.1431 - target_accuracy: 0.7006 - aux_accuracy: 0.9277 - val_loss: 0.4575 - val_target_loss: 0.3127 - val_aux_loss: 0.1448 - val_target_accuracy: 0.7001 - val_aux_accuracy: 0.9505\n",
            "Epoch 4/10\n",
            "2820/2820 [==============================] - 410s 145ms/step - loss: 0.4460 - target_loss: 0.3043 - aux_loss: 0.1417 - target_accuracy: 0.6999 - aux_accuracy: 0.9283 - val_loss: 0.4592 - val_target_loss: 0.3140 - val_aux_loss: 0.1452 - val_target_accuracy: 0.6992 - val_aux_accuracy: 0.9378\n",
            "Epoch 5/10\n",
            "2820/2820 [==============================] - 509s 181ms/step - loss: 0.4400 - target_loss: 0.3001 - aux_loss: 0.1400 - target_accuracy: 0.7003 - aux_accuracy: 0.9299 - val_loss: 0.4599 - val_target_loss: 0.3145 - val_aux_loss: 0.1454 - val_target_accuracy: 0.7001 - val_aux_accuracy: 0.9250\n",
            "  2/191 [..............................] - ETA: 1:27WARNING:tensorflow:Callbacks method `on_predict_batch_end` is slow compared to the batch time (batch time: 0.0016s vs `on_predict_batch_end` time: 0.0443s). Check your callbacks.\n"
          ],
          "name": "stdout"
        },
        {
          "output_type": "stream",
          "text": [
            "WARNING:tensorflow:Callbacks method `on_predict_batch_end` is slow compared to the batch time (batch time: 0.0016s vs `on_predict_batch_end` time: 0.0443s). Check your callbacks.\n"
          ],
          "name": "stderr"
        },
        {
          "output_type": "stream",
          "text": [
            "191/191 [==============================] - 9s 48ms/step\n",
            "  1/191 [..............................] - ETA: 0sWARNING:tensorflow:Callbacks method `on_predict_batch_end` is slow compared to the batch time (batch time: 0.0015s vs `on_predict_batch_end` time: 0.0411s). Check your callbacks.\n"
          ],
          "name": "stdout"
        },
        {
          "output_type": "stream",
          "text": [
            "WARNING:tensorflow:Callbacks method `on_predict_batch_end` is slow compared to the batch time (batch time: 0.0015s vs `on_predict_batch_end` time: 0.0411s). Check your callbacks.\n"
          ],
          "name": "stderr"
        },
        {
          "output_type": "stream",
          "text": [
            "191/191 [==============================] - 8s 40ms/step\n",
            "WARNING:tensorflow:TPU system grpc://10.13.191.122:8470 has already been initialized. Reinitializing the TPU can cause previously created variables on TPU to be lost.\n"
          ],
          "name": "stdout"
        },
        {
          "output_type": "stream",
          "text": [
            "WARNING:tensorflow:TPU system grpc://10.13.191.122:8470 has already been initialized. Reinitializing the TPU can cause previously created variables on TPU to be lost.\n"
          ],
          "name": "stderr"
        },
        {
          "output_type": "stream",
          "text": [
            "INFO:tensorflow:Initializing the TPU system: grpc://10.13.191.122:8470\n"
          ],
          "name": "stdout"
        },
        {
          "output_type": "stream",
          "text": [
            "INFO:tensorflow:Initializing the TPU system: grpc://10.13.191.122:8470\n"
          ],
          "name": "stderr"
        },
        {
          "output_type": "stream",
          "text": [
            "INFO:tensorflow:Clearing out eager caches\n"
          ],
          "name": "stdout"
        },
        {
          "output_type": "stream",
          "text": [
            "INFO:tensorflow:Clearing out eager caches\n"
          ],
          "name": "stderr"
        },
        {
          "output_type": "stream",
          "text": [
            "INFO:tensorflow:Finished initializing TPU system.\n"
          ],
          "name": "stdout"
        },
        {
          "output_type": "stream",
          "text": [
            "INFO:tensorflow:Finished initializing TPU system.\n"
          ],
          "name": "stderr"
        },
        {
          "output_type": "stream",
          "text": [
            "Accuracy on public test: 0.953072\n",
            "Accuracy on private test: 0.953052\n",
            "Public AUC score : 0.933233\n",
            "Private AUC score : 0.933193\n"
          ],
          "name": "stdout"
        },
        {
          "output_type": "display_data",
          "data": {
            "image/png": "[encoded data removed]",
            "text/plain": [
              "<Figure size 1080x360 with 4 Axes>"
            ]
          },
          "metadata": {
            "tags": [],
            "needs_background": "light"
          }
        }
      ]
    },
    {
      "cell_type": "markdown",
      "metadata": {
        "id": "EhwR8vW897xK",
        "colab_type": "text"
      },
      "source": [
        "## TextCNN"
      ]
    },
    {
      "cell_type": "code",
      "metadata": {
        "id": "XuTrgKVrnRoH",
        "colab_type": "code",
        "colab": {}
      },
      "source": [
        "def ConvNet2(embedding_matrix,num_aux_targets):\n",
        "  words = tf.keras.Input(shape=(None,))\n",
        "  x = tf.keras.layers.Embedding(*embedding_matrix.shape, weights=[embedding_matrix], trainable=False)(words)\n",
        "  convs = []\n",
        "  filter_sizes = [2,3,4,5,6]\n",
        "\n",
        "  for filter_size in filter_sizes:\n",
        "    l_conv = tf.keras.layers.Conv1D(filters=200, \n",
        "                        kernel_size=filter_size, \n",
        "                        activation='relu')(x)\n",
        "    l_pool =tf.keras.layers.GlobalMaxPooling1D()(l_conv)\n",
        "    convs.append(l_pool)\n",
        "  \n",
        "  l_merge = tf.concat(convs, axis=1)\n",
        "  x = tf.keras.layers.Dropout(0.1)(l_merge)  \n",
        "  x = tf.keras.layers.Dense(128, activation='relu')(x)\n",
        "  x = tf.keras.layers.Dropout(0.2)(x)\n",
        "  result = tf.keras.layers.Dense(1, activation='sigmoid', name = 'target')(x)\n",
        "  aux_result =  tf.keras.layers.Dense(num_aux_targets, activation='sigmoid', name = 'aux')(x)\n",
        "\n",
        "  model = tf.keras.Model(inputs=words, outputs=[result, aux_result])\n",
        "  model.compile(loss='binary_crossentropy', optimizer='adam',metrics=['accuracy'])\n",
        "\n",
        "  return model "
      ],
      "execution_count": null,
      "outputs": []
    },
    {
      "cell_type": "code",
      "metadata": {
        "id": "Tbpr1D0T-05Z",
        "colab_type": "code",
        "colab": {}
      },
      "source": [
        "model = ConvNet2(embedding_matrix, y_train_aux.shape[-1])\n",
        "model.fit(train_dataset, epochs=EPOCHS , callbacks=[callback])"
      ],
      "execution_count": null,
      "outputs": []
    }
  ]
}